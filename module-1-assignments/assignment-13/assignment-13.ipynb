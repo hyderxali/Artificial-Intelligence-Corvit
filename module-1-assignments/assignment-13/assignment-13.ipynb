{
 "cells": [
  {
   "cell_type": "code",
   "execution_count": 1,
   "id": "b21bbf69-eed9-4700-acf2-41224afc1810",
   "metadata": {
    "tags": []
   },
   "outputs": [],
   "source": [
    "import numpy as np"
   ]
  },
  {
   "cell_type": "code",
   "execution_count": 3,
   "id": "64c89df9-187c-478b-8f54-a718e5cdaffc",
   "metadata": {
    "tags": []
   },
   "outputs": [
    {
     "name": "stdout",
     "output_type": "stream",
     "text": [
      "[[0 1 2]\n",
      " [3 4 5]\n",
      " [6 7 8]]\n"
     ]
    }
   ],
   "source": [
    "# Task 1.\n",
    "# Create a 3x3 matrix with values ranging from 0 to 8.\n",
    "matrix = np.arange(9).reshape((3, 3))\n",
    "print(matrix)"
   ]
  },
  {
   "cell_type": "code",
   "execution_count": 5,
   "id": "e3dbe47f-4ab4-40b1-a097-bf93b194a563",
   "metadata": {
    "tags": []
   },
   "outputs": [
    {
     "name": "stdout",
     "output_type": "stream",
     "text": [
      "[[1. 0. 0.]\n",
      " [0. 2. 0.]\n",
      " [0. 0. 3.]]\n"
     ]
    }
   ],
   "source": [
    "# Task 2.\n",
    "# Create a 3x3 matrix where the diagonal elements are [1, 2, 3] and the off-diagonal elements are zeros.\n",
    "off_diagonal_zero = np.zeros((3,3))\n",
    "for i in range(len(off_diagonal_zero)):\n",
    "    off_diagonal_zero[i,i] = i+1\n",
    "print(off_diagonal_zero)"
   ]
  },
  {
   "cell_type": "code",
   "execution_count": 7,
   "id": "58747ce8-0ab2-4ac8-bd44-613314e61383",
   "metadata": {
    "tags": []
   },
   "outputs": [
    {
     "name": "stdout",
     "output_type": "stream",
     "text": [
      "Mean :  3.0\n",
      "Median :  3.0\n",
      "Standard Deviation :  1.4142135623730951\n"
     ]
    }
   ],
   "source": [
    "#Task 3\n",
    "#calculate mean , median , s.d\n",
    "array = np.array([1,2,3,4,5])\n",
    "print(\"Mean : \",np.mean(array))\n",
    "print(\"Median : \",np.median(array))\n",
    "print(\"Standard Deviation : \",np.std(array))"
   ]
  },
  {
   "cell_type": "code",
   "execution_count": 11,
   "id": "8428616e-2d17-4858-94fa-1471264444bf",
   "metadata": {
    "tags": []
   },
   "outputs": [
    {
     "name": "stdout",
     "output_type": "stream",
     "text": [
      "[1 2 3 4 5 6]\n"
     ]
    }
   ],
   "source": [
    "#Task 4\n",
    "a = np.array([1,2,3])\n",
    "b = np.array([4,5,6])\n",
    "result = np.concatenate((a,b))\n",
    "print(result)"
   ]
  },
  {
   "cell_type": "code",
   "execution_count": 14,
   "id": "9dca411e-53f1-44e1-9fdb-593f16e4f8a5",
   "metadata": {
    "tags": []
   },
   "outputs": [
    {
     "name": "stdout",
     "output_type": "stream",
     "text": [
      "[[19 22]\n",
      " [43 50]]\n"
     ]
    }
   ],
   "source": [
    "#task 5 dot product\n",
    "A =np.array([[1, 2],\n",
    "             [3, 4]])\n",
    "B = np.array([[5, 6], \n",
    "              [7, 8]])\n",
    "result = np.dot(A,B)\n",
    "print(result)"
   ]
  },
  {
   "cell_type": "code",
   "execution_count": 15,
   "id": "8aac0c66-e49c-4111-9d85-dd549aa5b4b9",
   "metadata": {
    "tags": []
   },
   "outputs": [
    {
     "name": "stdout",
     "output_type": "stream",
     "text": [
      "[1 0 3 0 5]\n"
     ]
    }
   ],
   "source": [
    "#task 6 replace even by zeros\n",
    "array = np.array([1,2,3,4,5])\n",
    "array[array % 2 == 0] = 0\n",
    "print(array)"
   ]
  },
  {
   "cell_type": "code",
   "execution_count": 16,
   "id": "5d95898f-035a-465b-ba42-9aa8c70b75d2",
   "metadata": {
    "tags": []
   },
   "outputs": [
    {
     "name": "stdout",
     "output_type": "stream",
     "text": [
      "[12 15 18]\n"
     ]
    }
   ],
   "source": [
    "# Task 7\n",
    "# .Given a matrix [[1, 2, 3], [4, 5, 6], [7, 8, 9]], calculate the sum of each column\n",
    "matrix = np.array([[1, 2, 3],\n",
    "                   [4, 5, 6],\n",
    "                   [7, 8, 9]])\n",
    "result = np.sum(matrix , axis = 0)\n",
    "print(result)"
   ]
  },
  {
   "cell_type": "code",
   "execution_count": 22,
   "id": "3aea2507-a85a-440a-85b9-840fa3d3e74b",
   "metadata": {
    "tags": []
   },
   "outputs": [
    {
     "name": "stdout",
     "output_type": "stream",
     "text": [
      "[0 2 3]\n"
     ]
    }
   ],
   "source": [
    "# Task 8\n",
    "# .Write a function that takes two arrays A and B, and returns the indices where\n",
    "# the elements of A are greater than the corresponding elements of B\n",
    "def returnGreaterIndexes(a,b):\n",
    "    greaterIndexes = []\n",
    "    for i in range(len(a)):\n",
    "        if a[i] > b[i] : \n",
    "            greaterIndexes.append(i)\n",
    "    return np.array(greaterIndexes)\n",
    "a = np.array([1,2,3,4,5])\n",
    "b = np.array([0,2,1,3,9])\n",
    "indexes = returnGreaterIndexes(a , b)\n",
    "print(indexes)"
   ]
  },
  {
   "cell_type": "code",
   "execution_count": 25,
   "id": "737dc4f4-8644-43a1-b952-44f36df97b38",
   "metadata": {
    "tags": []
   },
   "outputs": [
    {
     "name": "stdout",
     "output_type": "stream",
     "text": [
      "Sum of diagonal elements that are divisible by 3 is :  0\n"
     ]
    }
   ],
   "source": [
    "# Task 9\n",
    "# .Given a 2D array, calculate the sum of the diagonal elements that are divisible\n",
    "# by 3.\n",
    "x = np.arange(9).reshape(3,3)\n",
    "summ = 0\n",
    "for i in range(len(x)):\n",
    "    if x[i,i] % 3 == 0:\n",
    "        summ+=x[i,i]\n",
    "print(\"Sum of diagonal elements that are divisible by 3 is : \",summ)\n"
   ]
  },
  {
   "cell_type": "code",
   "execution_count": 48,
   "id": "93f519b4-db66-432c-ae8e-82b9a29b0405",
   "metadata": {
    "tags": []
   },
   "outputs": [
    {
     "name": "stdout",
     "output_type": "stream",
     "text": [
      "[[5 6]\n",
      " [7 8]]\n",
      "Max row is :  [7 8]\n"
     ]
    }
   ],
   "source": [
    "# Task 10.\n",
    "# Create a function that takes a 2D array and returns the row with the maximum\n",
    "# sum of its elements.\n",
    "def returnMaxRow(x):\n",
    "    rowsum = []\n",
    "    m = 0\n",
    "    rowsum = np.sum(x , axis = 1)\n",
    "    m = np.max(rowsum)\n",
    "    for i in range(len(rowsum)):\n",
    "        if m == rowsum[i]:\n",
    "            return x[i]\n",
    "x = np.arange(5,9).reshape(2,2)\n",
    "print(x)\n",
    "maxrow = returnMaxRow(x)\n",
    "print(\"Max row is : \",maxrow)\n"
   ]
  },
  {
   "cell_type": "code",
   "execution_count": 38,
   "id": "15e3ad11-449b-40e8-bd6b-d0b4d0dba219",
   "metadata": {
    "tags": []
   },
   "outputs": [
    {
     "name": "stdout",
     "output_type": "stream",
     "text": [
      "[[0.         0.64057847 0.         0.87705578 0.        ]\n",
      " [0.         0.09966257 0.         0.         0.        ]\n",
      " [2.50965986 0.         0.99616139 0.         0.        ]\n",
      " [0.         0.         0.86398172 0.         0.        ]\n",
      " [0.6663097  0.         0.         0.         0.0557859 ]]\n"
     ]
    }
   ],
   "source": [
    "# Task 11.\n",
    "# Generate a random 5x5 matrix and replace all negative values with zeros, while\n",
    "# keeping the positive values intact.\n",
    "ran = np.random.randn(5,5)\n",
    "ran[ran < 0] = 0\n",
    "print(ran)"
   ]
  },
  {
   "cell_type": "code",
   "execution_count": 51,
   "id": "dadf2c1f-e753-4e64-84c0-9def92ba24ee",
   "metadata": {
    "tags": []
   },
   "outputs": [
    {
     "name": "stdout",
     "output_type": "stream",
     "text": [
      "7\n",
      "[1.5, 2.0, 3.0, 4.0, 5.0, 6.0, 6.5]\n"
     ]
    }
   ],
   "source": [
    "# Task 12.\n",
    "# Given a 1D array, calculate the moving average over a window of size 3. The\n",
    "# mov-ing average at index i is the average of elements at indices i-1, i, and i+1.\n",
    "x = np.array([1,2,3,4,5,6,7])\n",
    "print(len(x))\n",
    "averageofele = []\n",
    "for i in range(len(x)):\n",
    "    if i == 0 : \n",
    "        averageofele.append((x[i] + x[i+1])/2)\n",
    "    elif i == len(x) - 1:\n",
    "        averageofele.append((x[i] + x[i - 1])/2)\n",
    "    else:\n",
    "        averageofele.append((x[i] + x[i+1] + x[i-1])/3)\n",
    "result = averageofele\n",
    "print(result)"
   ]
  },
  {
   "cell_type": "code",
   "execution_count": 2,
   "id": "9445292c-fd1c-4bf2-b5e7-479da984ad90",
   "metadata": {},
   "outputs": [
    {
     "name": "stdout",
     "output_type": "stream",
     "text": [
      "Euclidean Distance:  7.745966692414834\n"
     ]
    }
   ],
   "source": [
    "# Task 13.\n",
    "# Implement the Euclidean distance function that takes two arrays as inputs and\n",
    "# re-turns the Euclidean distance between them.\n",
    "array1 = np.array([1,2,3,4,5])\n",
    "array2 = np.array([7,6,5,4,3])\n",
    "\n",
    "temp = array1 - array2\n",
    "distance = np.sqrt(np.sum(np.square(temp)))\n",
    "\n",
    "\n",
    "print(\"Euclidean Distance: \", distance)"
   ]
  },
  {
   "cell_type": "code",
   "execution_count": 7,
   "id": "fccc048f-b682-48c7-8aa6-b979b01716b5",
   "metadata": {},
   "outputs": [
    {
     "name": "stdout",
     "output_type": "stream",
     "text": [
      "[[0.11111111 0.22222222 0.33333333]\n",
      " [0.44444444 0.55555556 0.66666667]\n",
      " [0.77777778 0.88888889 1.        ]]\n"
     ]
    }
   ],
   "source": [
    "# Task 14:\n",
    "# Create a function that takes an array and returns a new array with the\n",
    "# elements normalized between\n",
    "def arrayNormalizer(npArray):\n",
    "    m = np.max(npArray)\n",
    "    array = np.copy(npArray)\n",
    "    return array/m\n",
    "\n",
    "x = np.array([[1,2,3],\n",
    "             [4,5,6],\n",
    "             [7,8,9]])\n",
    "result = arrayNormalizer(x)\n",
    "print(result)\n",
    "    "
   ]
  },
  {
   "cell_type": "code",
   "execution_count": null,
   "id": "e852a575-5e59-4aed-9a2d-2355c11b2b23",
   "metadata": {},
   "outputs": [],
   "source": [
    "#top\n",
    "x[i-1 , j]\n",
    "#right\n",
    "x[i , j+1]\n",
    "#left\n",
    "x[i , j-1]\n",
    "#bottom\n",
    "x[i+1 , j]\n",
    "#top left\n",
    "x[i-1,j-1]\n",
    "#top right\n",
    "x[i-1 , j+1]\n",
    "#bottom right\n",
    "x[i+1,j+1]\n",
    "#bottom left\n",
    "x[i+1,j-1]"
   ]
  },
  {
   "cell_type": "code",
   "execution_count": 48,
   "id": "27d829f2-10b4-423e-8116-97da14975c5b",
   "metadata": {
    "tags": []
   },
   "outputs": [
    {
     "name": "stdout",
     "output_type": "stream",
     "text": [
      "[[ 0.  0.  0.  0.  0.  0.  0.]\n",
      " [ 0.  1.  2.  3.  4.  5.  0.]\n",
      " [ 0.  6.  7.  8.  9. 10.  0.]\n",
      " [ 0. 11. 12. 13. 14. 15.  0.]\n",
      " [ 0. 16. 17. 18. 19. 20.  0.]\n",
      " [ 0. 21. 22. 23. 24. 25.  0.]\n",
      " [ 0.  0.  0.  0.  0.  0.  0.]]\n",
      "\n",
      "\n",
      "[[ 4.   4.5  5.5  6.5  7. ]\n",
      " [ 6.5  7.   8.   9.   9.5]\n",
      " [11.5 12.  13.  14.  14.5]\n",
      " [16.5 17.  18.  19.  19.5]\n",
      " [19.  19.5 20.5 21.5 22. ]]\n"
     ]
    }
   ],
   "source": [
    "# Task 15:\n",
    "# Implement a function that takes a 2D array and returns a new array where\n",
    "# each element is the\n",
    "# average of its neighboring elements (including diagonals). If a neighboring element is\n",
    "# out of bounds,\n",
    "# consider it as zero\n",
    "array = np.arange(1,26).reshape(5,5)\n",
    "x = np.zeros((len(array)+2,len(array)+2))\n",
    "x[1:-1 , 1:-1] = array\n",
    "print(x)\n",
    "print()\n",
    "print()\n",
    "results = []\n",
    "for i in range(1,len(x)-1):\n",
    "    for j in range(1,len(x)-1):\n",
    "        count = 9\n",
    "        count -=1 if x[i-1,j] == 0 else 0\n",
    "        count -=1 if x[i,j+1] == 0  else 0\n",
    "        count -=1 if x[i,j-1] == 0  else 0\n",
    "        count -=1 if x[i+1,j] == 0 else 0\n",
    "        count -=1 if x[i-1,j-1] == 0 else 0\n",
    "        count -=1 if x[i-1,j+1] == 0 else 0\n",
    "        count -=1 if x[i+1,j+1] == 0 else 0\n",
    "        count -=1 if x[i+1,j-1] == 0  else 0\n",
    "        results.append(np.round((x[i,j]+x[i-1,j]+x[i+1,j]+x[i,j+1]+x[i,j-1]+x[i-1,j-1]+x[i-1,j+1]+x[i+1,j-1]+x[i+1,j+1])/count,2))\n",
    "results = np.array(results).reshape(5,5)\n",
    "print(results)\n",
    "                "
   ]
  }
 ],
 "metadata": {
  "kernelspec": {
   "display_name": "Python 3 (ipykernel)",
   "language": "python",
   "name": "python3"
  },
  "language_info": {
   "codemirror_mode": {
    "name": "ipython",
    "version": 3
   },
   "file_extension": ".py",
   "mimetype": "text/x-python",
   "name": "python",
   "nbconvert_exporter": "python",
   "pygments_lexer": "ipython3",
   "version": "3.11.5"
  }
 },
 "nbformat": 4,
 "nbformat_minor": 5
}
