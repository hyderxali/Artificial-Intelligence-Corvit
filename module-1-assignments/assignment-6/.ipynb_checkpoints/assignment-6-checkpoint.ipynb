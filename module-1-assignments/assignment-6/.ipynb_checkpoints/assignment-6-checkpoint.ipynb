{
 "cells": [
  {
   "cell_type": "code",
   "execution_count": 23,
   "id": "2baab089-5657-4c56-8002-a3db53db741b",
   "metadata": {
    "tags": []
   },
   "outputs": [
    {
     "name": "stdout",
     "output_type": "stream",
     "text": [
      "First 10 even number : \n",
      "0 2 4 6 8 10 12 14 16 18 \n",
      "First 10 odd number : \n",
      "1 3 5 7 9 11 13 15 17 19 "
     ]
    }
   ],
   "source": [
    "# Task 1: Write a program to print the following using while loop:\n",
    "# a) First 10 Even Numbers\n",
    "print(\"First 10 even number : \")\n",
    "i=0\n",
    "while i<20 : \n",
    "    print(i , end = \" \")\n",
    "    i = i + 2\n",
    "# b) First 10 Odd Numbers\n",
    "print(\"\\nFirst 10 odd number : \")\n",
    "i=1\n",
    "while i < 20 :\n",
    "    print(i, end = \" \")\n",
    "    i = i + 2"
   ]
  },
  {
   "cell_type": "code",
   "execution_count": 22,
   "id": "30d4ba89-4489-4a28-84ea-ba69795ae66d",
   "metadata": {
    "tags": []
   },
   "outputs": [
    {
     "name": "stdout",
     "output_type": "stream",
     "text": [
      "10 9 8 7 6 5 4 3 2 1 "
     ]
    }
   ],
   "source": [
    "# Task 2: Write a program to print first 10 natural number in reverse order Using while loop.\n",
    "i = 10\n",
    "while i > 0 :\n",
    "    print(i , end = \" \")\n",
    "    i = i - 1"
   ]
  },
  {
   "cell_type": "code",
   "execution_count": 11,
   "id": "b8a0d0fd-0555-407d-bb3b-00155b5289ac",
   "metadata": {
    "tags": []
   },
   "outputs": [
    {
     "name": "stdout",
     "output_type": "stream",
     "text": [
      "1\n",
      "4\n",
      "9\n",
      "16\n",
      "25\n"
     ]
    }
   ],
   "source": [
    "# Task 3: Write a program to print the square of numbers (1 to 5) using while loop.\n",
    "i = 1\n",
    "while i < 6 :\n",
    "    print(i*i)\n",
    "    i = i + 1"
   ]
  },
  {
   "cell_type": "code",
   "execution_count": 19,
   "id": "3698f428-2efd-4180-aff3-d7c3006c95d8",
   "metadata": {
    "tags": []
   },
   "outputs": [
    {
     "name": "stdout",
     "output_type": "stream",
     "text": [
      "10 20 30 40 50 60 70 80 90 100 "
     ]
    }
   ],
   "source": [
    "# Task 4: Write a program to print a number series (10 to 100) Using while loop.\n",
    "i = 10\n",
    "while i < 101 : \n",
    "    print(i , end=\" \")\n",
    "    i = i+10"
   ]
  },
  {
   "cell_type": "code",
   "execution_count": 13,
   "id": "ec5cd225-7120-4873-932e-2521ef622e69",
   "metadata": {
    "tags": []
   },
   "outputs": [
    {
     "name": "stdin",
     "output_type": "stream",
     "text": [
      "Enter Number : 5\n"
     ]
    },
    {
     "name": "stdout",
     "output_type": "stream",
     "text": [
      "5 * 1 = 5\n",
      "5 * 2 = 10\n",
      "5 * 3 = 15\n",
      "5 * 4 = 20\n",
      "5 * 5 = 25\n",
      "5 * 6 = 30\n",
      "5 * 7 = 35\n",
      "5 * 8 = 40\n",
      "5 * 9 = 45\n",
      "5 * 10 = 50\n"
     ]
    }
   ],
   "source": [
    "# Task 5: Write a program to Print Multiplication table of N number using while loop.\n",
    "N = int(input(\"Enter Number :\"))\n",
    "i = 1\n",
    "while i < 11 : \n",
    "    print(N , \"*\",i,\"=\",N*i)\n",
    "    i = i + 1"
   ]
  }
 ],
 "metadata": {
  "kernelspec": {
   "display_name": "Python 3 (ipykernel)",
   "language": "python",
   "name": "python3"
  },
  "language_info": {
   "codemirror_mode": {
    "name": "ipython",
    "version": 3
   },
   "file_extension": ".py",
   "mimetype": "text/x-python",
   "name": "python",
   "nbconvert_exporter": "python",
   "pygments_lexer": "ipython3",
   "version": "3.11.5"
  }
 },
 "nbformat": 4,
 "nbformat_minor": 5
}
