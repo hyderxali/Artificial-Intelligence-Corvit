{
 "cells": [
  {
   "cell_type": "code",
   "execution_count": 1,
   "id": "0577dabb-746c-4674-9398-e65e657fefe2",
   "metadata": {
    "tags": []
   },
   "outputs": [],
   "source": [
    "import numpy as np"
   ]
  },
  {
   "cell_type": "code",
   "execution_count": 31,
   "id": "91fd8adb-9572-49e6-add8-43e89e6380ae",
   "metadata": {
    "tags": []
   },
   "outputs": [
    {
     "name": "stdout",
     "output_type": "stream",
     "text": [
      "[12, 15, 18]\n"
     ]
    }
   ],
   "source": [
    "# Task 1:\n",
    "# Given a matrix [[1, 2, 3], [4, 5, 6], [7, 8, 9]], calculate the sum of each column\n",
    "a = np.array([[1, 2, 3],\n",
    "              [4, 5, 6],\n",
    "              [7, 8, 9]])\n",
    "result = []\n",
    "summ = 0\n",
    "for i in range(len(a)):\n",
    "    summ = 0\n",
    "    for j in range(len(a)):\n",
    "        summ+=a[j][i]\n",
    "    result.append(summ)\n",
    "print(result)\n",
    "        \n",
    "        \n"
   ]
  },
  {
   "cell_type": "code",
   "execution_count": 13,
   "id": "6491e1aa-2cf9-4a4e-b5f9-a48a0f17819b",
   "metadata": {
    "tags": []
   },
   "outputs": [
    {
     "name": "stdout",
     "output_type": "stream",
     "text": [
      "sum of Diagonal elements is :  12\n"
     ]
    }
   ],
   "source": [
    "\n",
    "# Task 2:\n",
    "# Given a 2D array, calculate the sum of the diagonal elements that are divisible by 3.\n",
    "\n",
    "x = np.array([[3,2,3],\n",
    "            [4,5,6],\n",
    "            [7,8,9]])\n",
    "\n",
    "s = 0\n",
    "for i in range(len(x)):\n",
    "    for j in range(len(x)):\n",
    "        if i==j and x[i][j]%3==0:\n",
    "            s += x[i][j]\n",
    "print(\"sum of Diagonal elements is : \",s)\n",
    "            \n",
    "\n"
   ]
  },
  {
   "cell_type": "code",
   "execution_count": 34,
   "id": "2a704b33-f06d-4ac0-b7f2-2c70f2454bb5",
   "metadata": {
    "tags": []
   },
   "outputs": [
    {
     "name": "stdout",
     "output_type": "stream",
     "text": [
      "[[0.01 0.12 0.23]\n",
      " [0.34 0.46 0.57]\n",
      " [0.68 0.79 0.9 ]]\n"
     ]
    }
   ],
   "source": [
    "# Task 3:\n",
    "# Create a function that takes an array and returns a new array with the elements\n",
    "# normalized between 0 and 1.\n",
    "def arrayNormalizer(array):\n",
    "    maximum = np.max(array)\n",
    "    newArray = (np.copy(array)/maximum) - 0.1\n",
    "    return newArray\n",
    "a = np.array([[1,2,3],\n",
    "            [4,5,6],\n",
    "            [7,8,9]])\n",
    "y = np.round_(arrayNormalizer(a),2)\n",
    "print(y)\n"
   ]
  }
 ],
 "metadata": {
  "kernelspec": {
   "display_name": "Python 3 (ipykernel)",
   "language": "python",
   "name": "python3"
  },
  "language_info": {
   "codemirror_mode": {
    "name": "ipython",
    "version": 3
   },
   "file_extension": ".py",
   "mimetype": "text/x-python",
   "name": "python",
   "nbconvert_exporter": "python",
   "pygments_lexer": "ipython3",
   "version": "3.11.5"
  }
 },
 "nbformat": 4,
 "nbformat_minor": 5
}
