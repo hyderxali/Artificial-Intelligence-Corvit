{
 "cells": [
  {
   "cell_type": "code",
   "execution_count": 30,
   "metadata": {
    "tags": []
   },
   "outputs": [],
   "source": [
    "#Pre defined Function used below in tasks\n",
    "def takeInputInList():\n",
    "    mylist = []\n",
    "    print(\"Enter stop to stop appennding in list\")\n",
    "    while True : \n",
    "        num = input(\"Enter Number: \")\n",
    "        if(num == \"stop\"):\n",
    "            break\n",
    "        else:\n",
    "            mylist.append(int(num))\n",
    "    return mylist\n",
    "def getLength(l) : \n",
    "    count = 0\n",
    "    for i in l:\n",
    "        count+=1\n",
    "    return count\n"
   ]
  },
  {
   "cell_type": "code",
   "execution_count": 31,
   "metadata": {
    "tags": []
   },
   "outputs": [
    {
     "name": "stdout",
     "output_type": "stream",
     "text": [
      "Enter stop to stop appennding in list\n"
     ]
    },
    {
     "name": "stdin",
     "output_type": "stream",
     "text": [
      "Enter Number:  -1\n",
      "Enter Number:  10\n",
      "Enter Number:  12\n",
      "Enter Number:  0\n",
      "Enter Number:  63\n",
      "Enter Number:  -11\n",
      "Enter Number:  63\n",
      "Enter Number:  64\n",
      "Enter Number:  stop\n"
     ]
    },
    {
     "name": "stdout",
     "output_type": "stream",
     "text": [
      "The Maximum Element is 64\n"
     ]
    }
   ],
   "source": [
    "# 1. Write a Python program to find the maximum element in a given list.\n",
    "\n",
    "def findMaxEle(l) : \n",
    "    max_ele = l[0]\n",
    "    for i in range(1,getLength(l)) :\n",
    "        if max_ele < l[i]:\n",
    "            max_ele = l[i]\n",
    "    return max_ele\n",
    "\n",
    "list1 = takeInputInList()\n",
    "\n",
    "print (\"The Maximum Element is\",findMaxEle(list1))"
   ]
  },
  {
   "cell_type": "code",
   "execution_count": 32,
   "metadata": {
    "tags": []
   },
   "outputs": [
    {
     "name": "stdout",
     "output_type": "stream",
     "text": [
      "Enter stop to stop appennding in list\n"
     ]
    },
    {
     "name": "stdin",
     "output_type": "stream",
     "text": [
      "Enter Number:  1\n",
      "Enter Number:  2\n",
      "Enter Number:  3\n",
      "Enter Number:  4\n",
      "Enter Number:  5\n",
      "Enter Number:  stop\n"
     ]
    },
    {
     "name": "stdout",
     "output_type": "stream",
     "text": [
      "Sum of List: 15\n"
     ]
    }
   ],
   "source": [
    "# 2. Write a Python program to calculate the sum of all the elements in a given list.\n",
    "def sumOfList(l) :\n",
    "    summ = 0\n",
    "    for i in l:\n",
    "        summ+=i\n",
    "    return summ\n",
    "list2 = takeInputInList()\n",
    "print(\"Sum of List:\",sumOfList(list2))"
   ]
  },
  {
   "cell_type": "code",
   "execution_count": 33,
   "metadata": {
    "tags": []
   },
   "outputs": [
    {
     "name": "stdout",
     "output_type": "stream",
     "text": [
      "Enter stop to stop appennding in list\n"
     ]
    },
    {
     "name": "stdin",
     "output_type": "stream",
     "text": [
      "Enter Number:  stop\n"
     ]
    },
    {
     "name": "stdout",
     "output_type": "stream",
     "text": [
      "list is empty\n"
     ]
    }
   ],
   "source": [
    "# 3. Write a Python program to check if a given list is empty or not.\n",
    "list3 = takeInputInList()\n",
    "\n",
    "def emptyOrNot(l):\n",
    "    if getLength(l) == 0 : \n",
    "        return \"list is empty\"\n",
    "    else:\n",
    "        return \"list is not empty\" \n",
    "print(emptyOrNot(list3))\n",
    "        "
   ]
  },
  {
   "cell_type": "code",
   "execution_count": 34,
   "metadata": {
    "tags": []
   },
   "outputs": [
    {
     "name": "stdout",
     "output_type": "stream",
     "text": [
      "Enter stop to stop appennding in list\n"
     ]
    },
    {
     "name": "stdin",
     "output_type": "stream",
     "text": [
      "Enter Number:  1\n",
      "Enter Number:  2\n",
      "Enter Number:  3\n",
      "Enter Number:  9\n",
      "Enter Number:  11\n",
      "Enter Number:  1\n",
      "Enter Number:  2\n",
      "Enter Number:  3\n",
      "Enter Number:  stop\n"
     ]
    },
    {
     "name": "stdout",
     "output_type": "stream",
     "text": [
      "List before removing duplicate elements: [1, 2, 3, 9, 11, 1, 2, 3]\n",
      "List after removing duplicate elements: [1, 2, 3, 9, 11]\n",
      "Duplicate Values were :  [1, 2, 3]\n"
     ]
    }
   ],
   "source": [
    "### 4. Write a Python program to remove duplicates from a given list.\n",
    "# def removeDup(l):\n",
    "#     # popped = []\n",
    "#     for i in range(getLength(l)):\n",
    "#         for j in range(i+1,getLength(l)):\n",
    "#             print(getLength(l))\n",
    "#             if l[i] == l[j]:\n",
    "#                 l.pop(j)\n",
    "#                 print(l)\n",
    "#     return l\n",
    "def removeDup(l):\n",
    "    popped = []\n",
    "    for i in range(getLength(l)):\n",
    "        j = i+1\n",
    "        while j < getLength(l):\n",
    "            if l[i] == l[j]:\n",
    "                popped.append(l.pop(j))\n",
    "            j+=1\n",
    "    return [l , popped]\n",
    "\n",
    "list4 = takeInputInList()\n",
    "initial = []\n",
    "for i in list4:\n",
    "    initial.append(i)\n",
    "result = removeDup(list4)\n",
    "if getLength(result[1])!=0:\n",
    "    print(\"List before removing duplicate elements:\",initial)\n",
    "    print(\"List after removing duplicate elements:\",result[0])\n",
    "    print(\"Duplicate Values were : \", result[1])\n",
    "else:\n",
    "    print(\"Duplicate Element was not found in List : \",list4)\n"
   ]
  },
  {
   "cell_type": "code",
   "execution_count": 35,
   "metadata": {
    "tags": []
   },
   "outputs": [
    {
     "name": "stdout",
     "output_type": "stream",
     "text": [
      "Enter stop to stop appennding in list\n"
     ]
    },
    {
     "name": "stdin",
     "output_type": "stream",
     "text": [
      "Enter Number:  1\n",
      "Enter Number:  2\n",
      "Enter Number:  3\n",
      "Enter Number:  9\n",
      "Enter Number:  11\n",
      "Enter Number:  -1\n",
      "Enter Number:  stop\n",
      "Enter number to search -1\n"
     ]
    },
    {
     "name": "stdout",
     "output_type": "stream",
     "text": [
      "Element Exits at index: 5\n"
     ]
    }
   ],
   "source": [
    "# 5. Write a Python program to check if a given element exists in a list.\n",
    "list5 = takeInputInList()\n",
    "def existOrNot(l,n):\n",
    "    flag = False\n",
    "    for i in range(getLength(l)):\n",
    "        if l[i] == n:\n",
    "            print(\"Element Exits at index:\",i)\n",
    "            flag = True\n",
    "    if not flag:\n",
    "        print(\"Element Don't exists\")\n",
    "            \n",
    "n = int(input(\"Enter number to search\"))\n",
    "existOrNot(list5,n)\n",
    "\n"
   ]
  },
  {
   "cell_type": "code",
   "execution_count": 36,
   "metadata": {
    "tags": []
   },
   "outputs": [
    {
     "name": "stdout",
     "output_type": "stream",
     "text": [
      "Enter stop to stop appennding in list\n"
     ]
    },
    {
     "name": "stdin",
     "output_type": "stream",
     "text": [
      "Enter Number:  1\n",
      "Enter Number:  2\n",
      "Enter Number:  3\n",
      "Enter Number:  4\n",
      "Enter Number:  5\n",
      "Enter Number:  stop\n"
     ]
    },
    {
     "name": "stdout",
     "output_type": "stream",
     "text": [
      "Before Reverse :  [1, 2, 3, 4, 5]\n",
      "After Reverse :  [5, 4, 3, 2, 1]\n"
     ]
    }
   ],
   "source": [
    "# 6. Write a Python program to reverse a given list.\n",
    "def reverse(l):\n",
    "    rev_list = []\n",
    "    for i in range(getLength(l)-1,-1,-1):\n",
    "        rev_list.append(l[i])\n",
    "    return rev_list\n",
    "list6 = takeInputInList()\n",
    "print(\"Before Reverse : \" , list6)\n",
    "print(\"After Reverse : \",reverse(list6))\n"
   ]
  },
  {
   "cell_type": "code",
   "execution_count": 37,
   "metadata": {
    "tags": []
   },
   "outputs": [
    {
     "name": "stdout",
     "output_type": "stream",
     "text": [
      "Enter stop to stop appennding in list\n"
     ]
    },
    {
     "name": "stdin",
     "output_type": "stream",
     "text": [
      "Enter Number:  1\n",
      "Enter Number:  stop\n"
     ]
    },
    {
     "name": "stdout",
     "output_type": "stream",
     "text": [
      "Average is : 1.0\n"
     ]
    }
   ],
   "source": [
    "# 8. Write a Python program to find the average of all the elements in a given list.\n",
    "def findAverage(l):\n",
    "    return sumOfList(l)/getLength(l)\n",
    "list8 = takeInputInList()\n",
    "print(\"Average is :\" , findAverage(list8))\n"
   ]
  },
  {
   "cell_type": "code",
   "execution_count": 38,
   "metadata": {
    "tags": []
   },
   "outputs": [
    {
     "name": "stdout",
     "output_type": "stream",
     "text": [
      "Populate First List:\n",
      "Enter stop to stop appennding in list\n"
     ]
    },
    {
     "name": "stdin",
     "output_type": "stream",
     "text": [
      "Enter Number:  1\n",
      "Enter Number:  2\n",
      "Enter Number:  3\n",
      "Enter Number:  4\n",
      "Enter Number:  5\n",
      "Enter Number:  stop\n"
     ]
    },
    {
     "name": "stdout",
     "output_type": "stream",
     "text": [
      "Populate Second List:\n",
      "Enter stop to stop appennding in list\n"
     ]
    },
    {
     "name": "stdin",
     "output_type": "stream",
     "text": [
      "Enter Number:  1\n",
      "Enter Number:  stop\n"
     ]
    },
    {
     "name": "stdout",
     "output_type": "stream",
     "text": [
      "Concatenated List : [1, 2, 3, 4, 5, 1]\n"
     ]
    }
   ],
   "source": [
    "# 9. Write a Python program to concatenate two lists and create a new list.\n",
    "def concatenateTwoList(l1,l2):\n",
    "    newList = l1\n",
    "    for i in range(getLength(l2)):\n",
    "        newList.append(l2[i])\n",
    "    return newList\n",
    "print(\"Populate First List:\")\n",
    "list9 = takeInputInList()\n",
    "print(\"Populate Second List:\")\n",
    "list9point1 = takeInputInList()\n",
    "print(\"Concatenated List :\",concatenateTwoList(list9,list9point1))\n"
   ]
  },
  {
   "cell_type": "code",
   "execution_count": 39,
   "metadata": {
    "tags": []
   },
   "outputs": [
    {
     "name": "stdin",
     "output_type": "stream",
     "text": [
      "Enter Number: 2\n",
      "Enter power: 3\n"
     ]
    },
    {
     "name": "stdout",
     "output_type": "stream",
     "text": [
      "Sum of the equation is : 15\n"
     ]
    }
   ],
   "source": [
    "# 10. Write a program to implement the given equatrion:\n",
    "def equation(num , power):\n",
    "    summ = 0\n",
    "    for i in range(power+1):\n",
    "        summ+=num**i\n",
    "    return summ\n",
    "n = int(input(\"Enter Number:\"))\n",
    "x = int(input(\"Enter power:\"))\n",
    "print(\"Sum of the equation is :\",equation(n,x))"
   ]
  },
  {
   "cell_type": "code",
   "execution_count": 40,
   "metadata": {
    "tags": []
   },
   "outputs": [
    {
     "name": "stdin",
     "output_type": "stream",
     "text": [
      "Enter Length(in multiple of 5): 10\n",
      "Enter width(in multiple of 5): 10\n"
     ]
    },
    {
     "name": "stdout",
     "output_type": "stream",
     "text": [
      "- - - - - - - - - - \n",
      "+ - + - + - + - + - \n",
      "- + - + - + - + - + \n",
      "+ - + - + - + - + - \n",
      "- - - - - - - - - - \n",
      "+ - + - + - + - + - \n",
      "- + - + - + - + - + \n",
      "+ - + - + - + - + - \n",
      "- - - - - - - - - - \n"
     ]
    }
   ],
   "source": [
    "# 11. Write a program to print the given shape\n",
    "def printShape(x,y):\n",
    "    count = 0\n",
    "    sign = \"+\"\n",
    "    for i in range(x):\n",
    "        if i % 4 == 0:\n",
    "            print(\"- \"*y,end=\"\")\n",
    "            print()\n",
    "        elif i % 2==0 :\n",
    "            for j in range(y):\n",
    "                if j % 2 == 0:\n",
    "                    sign = \"- \"\n",
    "                else:\n",
    "                    sign = \"+ \"\n",
    "                print(sign,end=\"\")\n",
    "            print()\n",
    "        else :\n",
    "            for k in range(y):\n",
    "                if k % 2 == 0:\n",
    "                    sign = \"+ \"\n",
    "                else:\n",
    "                    sign = \"- \"\n",
    "                print(sign , end=\"\")\n",
    "            print()\n",
    "x = int(input(\"Enter Length(in multiple of 5):\"))\n",
    "y = int(input(\"Enter width(in multiple of 5):\"))\n",
    "z=0\n",
    "if (y % 5 != 0) or (x % 5 != 0):\n",
    "    print(\"Please Enter in multiple of 5\")\n",
    "else:\n",
    "    z = (x/5) - 1\n",
    "    x-=z\n",
    "    printShape(int(x),y)\n"
   ]
  },
  {
   "cell_type": "code",
   "execution_count": 41,
   "metadata": {
    "tags": []
   },
   "outputs": [
    {
     "name": "stdin",
     "output_type": "stream",
     "text": [
      "Enter Number: 3\n",
      "Enter power: 5\n"
     ]
    },
    {
     "name": "stdout",
     "output_type": "stream",
     "text": [
      "Sum of the equation is : 18.4\n"
     ]
    }
   ],
   "source": [
    "# 12.Write a program to implement the given equation.\n",
    "def factorial(n):\n",
    "    summ = 1\n",
    "    if n == 0:\n",
    "        return 1\n",
    "    else:\n",
    "        for i in range(1,n+1):\n",
    "            summ*=i\n",
    "    return summ\n",
    "\n",
    "def equation2(num , power):\n",
    "    summ = 0\n",
    "    result = 0\n",
    "    for i in range(power+1):\n",
    "        summ=num**i\n",
    "        result+=summ/factorial(i)\n",
    "    return result\n",
    "\n",
    "n = int(input(\"Enter Number:\"))\n",
    "x = int(input(\"Enter power:\"))\n",
    "print(\"Sum of the equation is :\",equation2(n,x))\n"
   ]
  },
  {
   "cell_type": "code",
   "execution_count": 42,
   "metadata": {
    "tags": []
   },
   "outputs": [
    {
     "name": "stdout",
     "output_type": "stream",
     "text": [
      "Populate First List:\n",
      "Enter stop to stop appennding in list\n"
     ]
    },
    {
     "name": "stdin",
     "output_type": "stream",
     "text": [
      "Enter Number:  1\n",
      "Enter Number:  9\n",
      "Enter Number:  11\n",
      "Enter Number:  50\n",
      "Enter Number:  3\n",
      "Enter Number:  4\n",
      "Enter Number:  5\n",
      "Enter Number:  stop\n"
     ]
    },
    {
     "name": "stdout",
     "output_type": "stream",
     "text": [
      "Populate Second List:\n",
      "Enter stop to stop appennding in list\n"
     ]
    },
    {
     "name": "stdin",
     "output_type": "stream",
     "text": [
      "Enter Number:  1\n",
      "Enter Number:  2\n",
      "Enter Number:  3\n",
      "Enter Number:  stop\n"
     ]
    },
    {
     "name": "stdout",
     "output_type": "stream",
     "text": [
      "Checking Common :  [1, 3]\n"
     ]
    }
   ],
   "source": [
    "# 13. Write a Python program that takes two lists and print &quot;Yes&quot; if\n",
    "# they have at least one common member.\n",
    "def checkCommon(l1,l2):\n",
    "    commonList = []\n",
    "    flag = True\n",
    "    if getLength(l1) <= getLength(l2):\n",
    "        for i in range(getLength(l1)):\n",
    "            for j in range(getLength(l2)):\n",
    "                if l1[i] == l2[j] : \n",
    "                    commonList.append(l2[j])\n",
    "                    flag = False\n",
    "                    break\n",
    "    else:\n",
    "        for i in range(getLength(l2)):\n",
    "            for j in range(getLength(l1)):\n",
    "                if l2[i] == l1[j]:\n",
    "                    commonList.append(l1[j])\n",
    "                    flag = False\n",
    "                    break\n",
    "    if flag : \n",
    "        return \"Both Lists have nothing in common\"\n",
    "    else : \n",
    "        return commonList\n",
    "\n",
    "    \n",
    "print(\"Populate First List:\")   \n",
    "list13 = takeInputInList()\n",
    "print(\"Populate Second List:\")  \n",
    "list13point1 = takeInputInList()\n",
    "print(\"Checking Common : \",checkCommon(list13 , list13point1))"
   ]
  },
  {
   "cell_type": "code",
   "execution_count": 43,
   "metadata": {
    "tags": []
   },
   "outputs": [
    {
     "name": "stdout",
     "output_type": "stream",
     "text": [
      "List of 20 <  [50, 24, 33, 90]\n"
     ]
    }
   ],
   "source": [
    "# 14. A function which can return list of all numbers which are greater than 20 in a tuple. You\n",
    "# have to pass tuple as an argument\n",
    "\n",
    "def greaterThan20(tpl):\n",
    "    tlist = []\n",
    "    for i in tpl:\n",
    "        if i > 20 : \n",
    "            tlist.append(i)\n",
    "    return tlist\n",
    "list14 = greaterThan20((1,50,11,24,5,9,33,0,90))\n",
    "print(\"List of 20 < \",list14)"
   ]
  },
  {
   "cell_type": "code",
   "execution_count": 44,
   "metadata": {
    "tags": []
   },
   "outputs": [
    {
     "name": "stdout",
     "output_type": "stream",
     "text": [
      "['Hadirium', 12, 5, 9]\n"
     ]
    }
   ],
   "source": [
    "# 15. function which can accept tuple in its arguments and convert into list also return list\n",
    "def tuppleToList(tpl):\n",
    "    tlist = []\n",
    "    for i in tpl:\n",
    "        tlist.append(i)\n",
    "    return tlist\n",
    "list15 = tuppleToList((\"Hadirium\" ,12 , 5 , 9))\n",
    "print(list15)"
   ]
  }
 ],
 "metadata": {
  "kernelspec": {
   "display_name": "Python 3 (ipykernel)",
   "language": "python",
   "name": "python3"
  },
  "language_info": {
   "codemirror_mode": {
    "name": "ipython",
    "version": 3
   },
   "file_extension": ".py",
   "mimetype": "text/x-python",
   "name": "python",
   "nbconvert_exporter": "python",
   "pygments_lexer": "ipython3",
   "version": "3.11.5"
  }
 },
 "nbformat": 4,
 "nbformat_minor": 4
}
