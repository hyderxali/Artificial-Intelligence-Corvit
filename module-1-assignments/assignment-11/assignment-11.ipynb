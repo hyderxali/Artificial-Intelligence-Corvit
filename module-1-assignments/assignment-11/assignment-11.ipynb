{
 "cells": [
  {
   "cell_type": "code",
   "execution_count": 8,
   "id": "85abb51e-9e55-4c42-b23d-f912cf13762f",
   "metadata": {
    "tags": []
   },
   "outputs": [],
   "source": [
    "import numpy as np"
   ]
  },
  {
   "cell_type": "code",
   "execution_count": 9,
   "id": "9b5c6dab-985f-4a3c-b9f8-8599a23a8740",
   "metadata": {
    "tags": []
   },
   "outputs": [
    {
     "name": "stdout",
     "output_type": "stream",
     "text": [
      "[[[1. 1.]\n",
      "  [1. 1.]]\n",
      "\n",
      " [[1. 1.]\n",
      "  [1. 1.]]\n",
      "\n",
      " [[1. 1.]\n",
      "  [1. 1.]]\n",
      "\n",
      " [[1. 1.]\n",
      "  [1. 1.]]\n",
      "\n",
      " [[1. 1.]\n",
      "  [1. 1.]]\n",
      "\n",
      " [[1. 1.]\n",
      "  [1. 1.]]\n",
      "\n",
      " [[1. 1.]\n",
      "  [1. 1.]]\n",
      "\n",
      " [[1. 1.]\n",
      "  [1. 1.]]\n",
      "\n",
      " [[1. 1.]\n",
      "  [1. 1.]]\n",
      "\n",
      " [[1. 1.]\n",
      "  [1. 1.]]]\n"
     ]
    }
   ],
   "source": [
    "# Task 1: Create 3D array having two rows and two columns and 10\n",
    "# parallel\n",
    "a = np.ones((10,2,2))\n",
    "print(a)"
   ]
  },
  {
   "cell_type": "code",
   "execution_count": 10,
   "id": "46b1b9d5-6718-459e-9996-e528d2e96226",
   "metadata": {
    "tags": []
   },
   "outputs": [
    {
     "name": "stdout",
     "output_type": "stream",
     "text": [
      "[[  1   4   9  16]\n",
      " [ 25  36  49  64]\n",
      " [ 81 100 121 144]\n",
      " [169 196 225 256]\n",
      " [289 324 361 400]\n",
      " [441 484 529 576]]\n"
     ]
    }
   ],
   "source": [
    "# Task 2: Convert a 4D Numpy array having 24 elements into a 2D array\n",
    "# having square of each element.\n",
    "fourDArray = np.array([[\n",
    "              [[1,2],[3,4]],\n",
    "              [[5,6],[7,8]],\n",
    "              [[9,10],[11,12]]\n",
    "              ],\n",
    "              [\n",
    "              [[13,14],[15,16]],\n",
    "              [[17,18],[19,20]],\n",
    "              [[21,22],[23,24]]\n",
    "              ]])\n",
    "twoDArray = fourDArray.reshape(6,4)**2\n",
    "print(twoDArray)"
   ]
  },
  {
   "cell_type": "code",
   "execution_count": 84,
   "id": "fad315d0-90dc-43c6-960b-465e2b250fba",
   "metadata": {
    "tags": []
   },
   "outputs": [
    {
     "name": "stdout",
     "output_type": "stream",
     "text": [
      "407 µs ± 12 µs per loop (mean ± std. dev. of 7 runs, 1,000 loops each)\n",
      "For 1000 numpy array 3.3077075481414795  milliseconds has been taken\n"
     ]
    }
   ],
   "source": [
    "# Task 3: Make a list of 1000 elements between 0 and 1. Calculate square\n",
    "# of each element and print time taken for execution.\n",
    "# Repeat it for Numpy and compare time. Increase elements up to 10000 and 1000000\n",
    "# and see results.\n",
    "#first Part\n",
    "import time as t\n",
    "start_time = t.time()\n",
    "value = 0\n",
    "thousandEleArray = list()\n",
    "for i in range(0,1000):\n",
    "    value+=0.001\n",
    "    formatted_string = \"{:.4f}\".format(value)\n",
    "    float_value = float(formatted_string)\n",
    "    thousandEleArray.append(float_value)\n",
    "%timeit thousandSquEleArray = [i**2 for i in thousandEleArray]\n",
    "\n",
    "print(\"For 1000 numpy array\",t.time() - start_time,\" milliseconds has been taken\")\n"
   ]
  },
  {
   "cell_type": "code",
   "execution_count": 83,
   "id": "dc40dda9-ae62-496c-b68b-a854682127cf",
   "metadata": {
    "tags": []
   },
   "outputs": [
    {
     "name": "stdout",
     "output_type": "stream",
     "text": [
      "using numpyArray\n",
      "2.5 µs ± 20.7 ns per loop (mean ± std. dev. of 7 runs, 100,000 loops each)\n",
      "For 1000 numpy array 2.125077724456787  milliseconds has been taken\n",
      "8.98 µs ± 194 ns per loop (mean ± std. dev. of 7 runs, 100,000 loops each)\n",
      "For 10000 numpy array 9.404545783996582  milliseconds has been taken\n",
      "88.7 µs ± 1.7 µs per loop (mean ± std. dev. of 7 runs, 10,000 loops each)\n",
      "For 10000 numpy array 16.604185104370117  milliseconds has been taken\n"
     ]
    }
   ],
   "source": [
    "#second part\n",
    "\n",
    "new_start_time = t.time()\n",
    "print(\"using numpyArray\")\n",
    "x = np.arange(0,1,0.001)\n",
    "%timeit y = x**2\n",
    "print(\"For 1000 numpy array\",t.time() - new_start_time,\" milliseconds has been taken\")\n",
    "x = np.arange(0,1,0.0001)\n",
    "%timeit y = x**2\n",
    "print(\"For 10000 numpy array\",t.time() - new_start_time,\" milliseconds has been taken\")\n",
    "x = np.arange(0,1,0.00001)\n",
    "%timeit y = x**2\n",
    "print(\"For 10000 numpy array\",t.time() - new_start_time,\" milliseconds has been taken\")"
   ]
  },
  {
   "cell_type": "code",
   "execution_count": 14,
   "id": "fecc0afc-30d9-4372-9b83-19652792d138",
   "metadata": {
    "tags": []
   },
   "outputs": [
    {
     "name": "stdout",
     "output_type": "stream",
     "text": [
      "[[1. 1. 1. 1. 1.]\n",
      " [1. 0. 0. 0. 1.]\n",
      " [1. 0. 0. 0. 1.]\n",
      " [1. 0. 0. 0. 1.]\n",
      " [1. 1. 1. 1. 1.]]\n"
     ]
    }
   ],
   "source": [
    "# Task 4: Make a Numpy array having 5 rows and 5 columns using ones( )function\n",
    "# After that convert it into the following shape:\n",
    "# [[1., 1., 1., 1., 1.],\n",
    "# [1., 0., 0., 0., 1.],\n",
    "# [1., 0., 0., 0., 1.],\n",
    "# [1., 0., 0., 0., 1.],\n",
    "# [1., 1., 1., 1., 1.]]\n",
    "ones = np.ones((5,5))\n",
    "zeros = np.zeros((3,3))\n",
    "ones[1:4 , 1:4] = zeros\n",
    "print(ones)"
   ]
  }
 ],
 "metadata": {
  "kernelspec": {
   "display_name": "Python 3 (ipykernel)",
   "language": "python",
   "name": "python3"
  },
  "language_info": {
   "codemirror_mode": {
    "name": "ipython",
    "version": 3
   },
   "file_extension": ".py",
   "mimetype": "text/x-python",
   "name": "python",
   "nbconvert_exporter": "python",
   "pygments_lexer": "ipython3",
   "version": "3.11.5"
  }
 },
 "nbformat": 4,
 "nbformat_minor": 5
}
