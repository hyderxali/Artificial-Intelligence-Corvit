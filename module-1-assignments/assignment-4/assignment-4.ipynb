{
 "cells": [
  {
   "cell_type": "code",
   "execution_count": 8,
   "id": "4766c586-35bb-430f-a2ef-fdabe77bc78b",
   "metadata": {
    "tags": []
   },
   "outputs": [
    {
     "name": "stdin",
     "output_type": "stream",
     "text": [
      "Enter Dollars : 69\n"
     ]
    },
    {
     "name": "stdout",
     "output_type": "stream",
     "text": [
      "69.0 $ = 19144.05 pkr\n"
     ]
    }
   ],
   "source": [
    "# Task 1: Write a program to convert $ dollar into Pakistani Rupees.\n",
    "dollars = float(input(\"Enter Dollars :\"))\n",
    "pkr = dollars * 277.45\n",
    "print(dollars,\"$ =\",pkr,\"pkr\")"
   ]
  },
  {
   "cell_type": "code",
   "execution_count": 43,
   "id": "9081c879-3b98-4b8c-bbc2-94c6004c3b14",
   "metadata": {
    "tags": []
   },
   "outputs": [
    {
     "name": "stdin",
     "output_type": "stream",
     "text": [
      "Enter Number 8\n"
     ]
    },
    {
     "name": "stdout",
     "output_type": "stream",
     "text": [
      "31 days\n"
     ]
    }
   ],
   "source": [
    "# Task 2: Write a program to input month number and print number of days in that month.\n",
    "month = int(input(\"Enter Number\"))\n",
    "if not(month < 1 or month > 12) : \n",
    "    if month == 2 : \n",
    "        print(\"28 days (and 29 days on a leap year)\")\n",
    "    elif (month < 8 and month%2 != 0) or (month > 7 and month %2 == 0) :\n",
    "        print(\"31 days\")\n",
    "    else : \n",
    "        print(\"30 days\")\n",
    "else : \n",
    "    print(\"Invalid Month entered\")"
   ]
  },
  {
   "cell_type": "code",
   "execution_count": 18,
   "id": "e47a60c0-3db3-47c6-b0ed-ff200152b268",
   "metadata": {
    "tags": []
   },
   "outputs": [
    {
     "name": "stdin",
     "output_type": "stream",
     "text": [
      "Enter any Alphabet q\n"
     ]
    },
    {
     "name": "stdout",
     "output_type": "stream",
     "text": [
      "Alphabet is consonant\n"
     ]
    }
   ],
   "source": [
    "# Task 3: Write a program to input any alphabet and check whether it is vowel or not..\n",
    "alpha = input(\"Enter any Alphabet\").lower()\n",
    "if len(alpha) > 1 or len(alpha) < 1:\n",
    "    print(\"You haven't entered a single Character\")\n",
    "elif (alpha == \"a\" or alpha == \"e\" or alpha == \"i\" or alpha == \"o\" or alpha == \"u\"):\n",
    "    print(\"Alphabet is Vowel\")\n",
    "else :\n",
    "    print(\"Alphabet is consonant\")"
   ]
  },
  {
   "cell_type": "code",
   "execution_count": 21,
   "id": "faa980a7-b6eb-4791-8808-b76963921656",
   "metadata": {
    "tags": []
   },
   "outputs": [
    {
     "name": "stdin",
     "output_type": "stream",
     "text": [
      "Maths : 100\n",
      "urdu : 10\n",
      "computer : 90\n",
      "islamyat : 45\n",
      "chemistry : 68\n",
      "physics : 87\n",
      "pak studies : 50\n"
     ]
    },
    {
     "name": "stdout",
     "output_type": "stream",
     "text": [
      "Total :  450.0 Percentage :  64.28571428571429\n",
      "Subject wise percentages : \n",
      "Maths :  100.0\n",
      "Urdu :  10.0\n",
      "Computer :  90.0\n",
      "islamyat :  45.0\n",
      "physics :  68.0\n",
      "pakstd :  87.0\n",
      "Maths :  50.0\n"
     ]
    }
   ],
   "source": [
    "# Task 4: Enter your matriculation marks subject wise and the system will display total marks\n",
    "# and percentage of all also display subject wise percentage\n",
    "maths = float(input(\"Maths :\"))\n",
    "urdu = float(input(\"urdu :\"))\n",
    "comp = float(input(\"computer :\"))\n",
    "isl = float(input(\"islamyat :\"))\n",
    "chem = float(input(\"chemistry :\"))\n",
    "phy = float(input(\"physics :\"))\n",
    "pakstd = float(input(\"pak studies :\"))\n",
    "total = maths+urdu+comp+isl+chem+phy+pakstd\n",
    "percen = total/7\n",
    "print(\"Total : \", total , \"\\nPercentage : \",percen)\n",
    "print(\"Subject wise percentages : \")\n",
    "\n",
    "print(\"Maths : \",(maths/100)*100,\"%\")\n",
    "print(\"Urdu : \",(urdu/100)*100,\"%\")\n",
    "print(\"Computer : \",(comp/100)*100,\"%\")\n",
    "print(\"islamyat : \",(isl/100)*100,\"%\")\n",
    "print(\"physics : \",(chem/100)*100,\"%\")\n",
    "print(\"pakstd : \",(phy/100)*100,\"%\")\n",
    "print(\"Maths : \",(pakstd/100)*100,\"%\")"
   ]
  },
  {
   "cell_type": "code",
   "execution_count": 22,
   "id": "0e884cb6-df43-4030-95a7-fa1380cac761",
   "metadata": {
    "tags": []
   },
   "outputs": [
    {
     "name": "stdin",
     "output_type": "stream",
     "text": [
      "Enter first Number : 10\n",
      "Enter second Number : 3\n"
     ]
    },
    {
     "name": "stdout",
     "output_type": "stream",
     "text": [
      "division :  3\n"
     ]
    }
   ],
   "source": [
    "# Task 5: Take two number from user and divide them and display them without floating\n",
    "# point.\n",
    "num1 = int(input(\"Enter first Number :\"))\n",
    "num2 = int(input(\"Enter second Number :\"))\n",
    "print(\"division : \",int(num1/num2))"
   ]
  }
 ],
 "metadata": {
  "kernelspec": {
   "display_name": "Python 3 (ipykernel)",
   "language": "python",
   "name": "python3"
  },
  "language_info": {
   "codemirror_mode": {
    "name": "ipython",
    "version": 3
   },
   "file_extension": ".py",
   "mimetype": "text/x-python",
   "name": "python",
   "nbconvert_exporter": "python",
   "pygments_lexer": "ipython3",
   "version": "3.11.5"
  }
 },
 "nbformat": 4,
 "nbformat_minor": 5
}
