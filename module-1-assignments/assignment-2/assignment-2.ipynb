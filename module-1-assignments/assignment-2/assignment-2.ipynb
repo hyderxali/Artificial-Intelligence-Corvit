{
 "cells": [
  {
   "cell_type": "code",
   "execution_count": 9,
   "id": "b573f4d8-6a31-4b4d-9119-c3233e22eeab",
   "metadata": {
    "tags": []
   },
   "outputs": [
    {
     "name": "stdin",
     "output_type": "stream",
     "text": [
      "Enter First Number :  11\n",
      "Enter Second Number :  21\n"
     ]
    },
    {
     "name": "stdout",
     "output_type": "stream",
     "text": [
      "Result is : 32\n",
      "Sum: 15 \n",
      "Difference :  11 \n",
      "Product :  26 \n",
      "Remainder : 1\n"
     ]
    },
    {
     "name": "stdin",
     "output_type": "stream",
     "text": [
      "Enter Length: 1\n",
      "Enter width: 2\n"
     ]
    },
    {
     "name": "stdout",
     "output_type": "stream",
     "text": [
      "Area of a Rectangle is :  2\n"
     ]
    },
    {
     "name": "stdin",
     "output_type": "stream",
     "text": [
      "Enter First String : haider\n",
      "Enter Second String :  ali\n"
     ]
    },
    {
     "name": "stdout",
     "output_type": "stream",
     "text": [
      "haiderali\n"
     ]
    },
    {
     "name": "stdin",
     "output_type": "stream",
     "text": [
      "Enter First Number :  10\n",
      "Enter Second Number :  11\n"
     ]
    },
    {
     "name": "stdout",
     "output_type": "stream",
     "text": [
      "Division :  0.9090909090909091 \n",
      "Remainder :  10\n"
     ]
    }
   ],
   "source": [
    "# Task 1: Calculate the Sum of Two Numbers Write a Python program that takes two numbers as input and\n",
    "# calculates their sum. Print the result.\n",
    "# solution : \n",
    "#Note : the input function always gives us a string , so to convert a string into nubmer we use int()\n",
    "\n",
    "number1 = int(input(\"Enter First Number : \"))\n",
    "number2 = int(input(\"Enter Second Number : \"))\n",
    "sum = number1+number2\n",
    "print(\"Result is :\",sum)"
   ]
  },
  {
   "cell_type": "code",
   "execution_count": null,
   "id": "38ba63af-7dd6-4009-8ef9-511a38f8400d",
   "metadata": {},
   "outputs": [],
   "source": [
    "#Task 2: Basic Arithmetic Given two numbers, calculate and print their sum, difference, product, and\n",
    "# remainder.\n",
    "\n",
    "number1 = 13\n",
    "number2 = 2\n",
    "print(\"Sum:\",number1+number2,\"\\nDifference : \",number1-number2,\"\\nProduct : \",number1*number2,\"\\nRemainder :\",number1%number2)"
   ]
  },
  {
   "cell_type": "code",
   "execution_count": null,
   "id": "1d42a395-08e3-4803-957c-8ca9568b84fe",
   "metadata": {},
   "outputs": [],
   "source": [
    "# Task 3: Calculate the Area of a Rectangle\n",
    "# Write a Python program that calculates the area of a rectangle. You can take the length and width of the\n",
    "# rectangle and then calculate and print the area.\n",
    "\n",
    "length = int(input(\"Enter Length:\"))\n",
    "width = int(input(\"Enter width:\"))\n",
    "print(\"Area of a Rectangle is : \",length*width)"
   ]
  },
  {
   "cell_type": "code",
   "execution_count": null,
   "id": "3a7ef968-1fc5-4a1e-8ec2-f76bcf3a2b0a",
   "metadata": {},
   "outputs": [],
   "source": [
    "# Task 4: String Concatenation\n",
    "# Create two strings and concatenate them to form a single string. Print the concatenated string.\n",
    "\n",
    "str1 = input(\"Enter First String :\")\n",
    "str2 = input(\"Enter Second String : \")\n",
    "print(str1+str2)"
   ]
  },
  {
   "cell_type": "code",
   "execution_count": null,
   "id": "b23945fc-478a-487f-aed4-98373f347bbe",
   "metadata": {},
   "outputs": [],
   "source": [
    "# Task 5: Division and Remainder\n",
    "# Write a program that takes two integers and calculates and prints the result of integer division and the\n",
    "# remainder when dividing the first number by the second.\n",
    "\n",
    "number1 = int(input(\"Enter First Number : \"))\n",
    "number2 = int(input(\"Enter Second Number : \"))\n",
    "print(\"Division : \", float(number1/number2) , \"\\nRemainder : \",number1%number2)"
   ]
  }
 ],
 "metadata": {
  "kernelspec": {
   "display_name": "Python 3 (ipykernel)",
   "language": "python",
   "name": "python3"
  },
  "language_info": {
   "codemirror_mode": {
    "name": "ipython",
    "version": 3
   },
   "file_extension": ".py",
   "mimetype": "text/x-python",
   "name": "python",
   "nbconvert_exporter": "python",
   "pygments_lexer": "ipython3",
   "version": "3.11.5"
  }
 },
 "nbformat": 4,
 "nbformat_minor": 5
}
