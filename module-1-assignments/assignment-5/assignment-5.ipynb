{
 "cells": [
  {
   "cell_type": "code",
   "execution_count": 5,
   "id": "2089ffaf-e87b-4b19-9ce3-b1df3e94b21d",
   "metadata": {
    "tags": []
   },
   "outputs": [
    {
     "name": "stdout",
     "output_type": "stream",
     "text": [
      "50\n",
      "52\n",
      "54\n",
      "56\n",
      "58\n",
      "60\n",
      "62\n",
      "64\n",
      "66\n",
      "68\n",
      "70\n",
      "72\n",
      "74\n",
      "76\n",
      "78\n",
      "80\n",
      "82\n",
      "84\n",
      "86\n",
      "88\n",
      "90\n",
      "92\n",
      "94\n",
      "96\n",
      "98\n",
      "100\n"
     ]
    }
   ],
   "source": [
    "# Task 1: Write a program to print even numbers from 50 – 100 using while loop.\n",
    "i = 50\n",
    "while i < 101 : \n",
    "    print(i)\n",
    "    i = i+2\n"
   ]
  },
  {
   "cell_type": "code",
   "execution_count": 9,
   "id": "e73ee762-0b63-4639-93fa-70c8e7f95848",
   "metadata": {
    "tags": []
   },
   "outputs": [
    {
     "name": "stdin",
     "output_type": "stream",
     "text": [
      "Enter Value :  1\n",
      "Enter Value :  2\n",
      "Enter Value :  3\n",
      "Enter Value :  4\n",
      "Enter Value :  5\n",
      "Enter Value :  6\n",
      "Enter Value :  7\n",
      "Enter Value :  2\n",
      "Enter Value :  3\n",
      "Enter Value :  4\n"
     ]
    },
    {
     "name": "stdout",
     "output_type": "stream",
     "text": [
      "Smallest Value :  1\n"
     ]
    }
   ],
   "source": [
    "# Task 2: Take ten numbers and display smallest number using while loop. (without built-in function).\n",
    "min = 9999999999\n",
    "i = 0\n",
    "value = 0\n",
    "while i < 10 : \n",
    "    value = int(input(\"Enter Value : \"))\n",
    "    if value <= min : \n",
    "        min = value\n",
    "    i = i+1\n",
    "print(\"Smallest Value : \",min)\n",
    "\n"
   ]
  },
  {
   "cell_type": "code",
   "execution_count": 11,
   "id": "d9914414-d6e4-4762-acf7-25b5becccb09",
   "metadata": {
    "tags": []
   },
   "outputs": [
    {
     "name": "stdin",
     "output_type": "stream",
     "text": [
      "Enter Number :  1\n",
      "Enter Number :  1\n",
      "Enter Number :  1\n",
      "Enter Number :  1\n",
      "Enter Number :  1\n",
      "Enter Number :  1\n",
      "Enter Number :  1\n",
      "Enter Number :  1\n",
      "Enter Number :  1\n",
      "Enter Number :  1\n"
     ]
    },
    {
     "name": "stdout",
     "output_type": "stream",
     "text": [
      "Average :  1.0\n"
     ]
    }
   ],
   "source": [
    "# Task 3: Take 10 integers numbers and print their average value using while loop.\n",
    "i = 0\n",
    "sum = 0\n",
    "while i < 10 : \n",
    "    sum = sum + int(input(\"Enter Number : \"))\n",
    "    i = i+1\n",
    "print(\"Average : \",sum/10)\n"
   ]
  },
  {
   "cell_type": "code",
   "execution_count": 13,
   "id": "39b928f0-c3a9-4356-9a20-493bf2fb70c9",
   "metadata": {
    "tags": []
   },
   "outputs": [
    {
     "name": "stdin",
     "output_type": "stream",
     "text": [
      "Enter N :  3\n"
     ]
    },
    {
     "name": "stdout",
     "output_type": "stream",
     "text": [
      "1\n",
      "2\n",
      "3\n"
     ]
    }
   ],
   "source": [
    "# Task 4: Counting from 1 to N: Write a program that uses a while loop to print numbers from 1 to N.\n",
    "n = int(input(\"Enter N : \"))\n",
    "i=1\n",
    "while i <= n : \n",
    "    print(i)\n",
    "    i = i+1\n"
   ]
  },
  {
   "cell_type": "code",
   "execution_count": 15,
   "id": "04cf938a-7a28-4fbc-97da-a882fd583445",
   "metadata": {
    "tags": []
   },
   "outputs": [
    {
     "name": "stdin",
     "output_type": "stream",
     "text": [
      "Enter N :  5\n"
     ]
    },
    {
     "name": "stdout",
     "output_type": "stream",
     "text": [
      "sum : 15\n"
     ]
    }
   ],
   "source": [
    "# Task 5: Sum of N numbers: Create a program that calculates the sum of the first N natural numbers using a\n",
    "# while loop.\n",
    "n = int(input(\"Enter N : \"))\n",
    "i=1\n",
    "sum = 0\n",
    "while i <= n : \n",
    "    sum = sum + i\n",
    "    i = i+1\n",
    "print(\"sum :\",sum)"
   ]
  },
  {
   "cell_type": "code",
   "execution_count": 19,
   "id": "4d884115-26fe-40ee-89d7-5acf226fd540",
   "metadata": {
    "tags": []
   },
   "outputs": [
    {
     "name": "stdin",
     "output_type": "stream",
     "text": [
      "Enter N :  9\n"
     ]
    },
    {
     "name": "stdout",
     "output_type": "stream",
     "text": [
      "Factorial is :  362880\n"
     ]
    }
   ],
   "source": [
    "# Task 6: Factorial Calculation: Write a program to calculate the factorial of a given number using a while\n",
    "# loop.\n",
    "n = int(input(\"Enter N : \"))\n",
    "if n == 0 : \n",
    "    print(\"Factorial is 1\")\n",
    "else : \n",
    "    i=1\n",
    "    fac = 1\n",
    "    while i <= n : \n",
    "        fac = fac * i\n",
    "        i = i+1\n",
    "    print(\"Factorial is : \",fac)"
   ]
  }
 ],
 "metadata": {
  "kernelspec": {
   "display_name": "Python 3 (ipykernel)",
   "language": "python",
   "name": "python3"
  },
  "language_info": {
   "codemirror_mode": {
    "name": "ipython",
    "version": 3
   },
   "file_extension": ".py",
   "mimetype": "text/x-python",
   "name": "python",
   "nbconvert_exporter": "python",
   "pygments_lexer": "ipython3",
   "version": "3.11.5"
  }
 },
 "nbformat": 4,
 "nbformat_minor": 5
}
