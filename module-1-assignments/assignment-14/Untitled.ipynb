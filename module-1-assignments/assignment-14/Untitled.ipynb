{
 "cells": [
  {
   "cell_type": "code",
   "execution_count": 81,
   "id": "f49b7de4-597d-459d-b199-39d246f48f8e",
   "metadata": {
    "tags": []
   },
   "outputs": [],
   "source": [
    "import numpy as np"
   ]
  },
  {
   "cell_type": "code",
   "execution_count": 42,
   "id": "087bd77c-cd92-423e-9ad0-3847ace1f19b",
   "metadata": {
    "tags": []
   },
   "outputs": [],
   "source": [
    "x = np.array([[-1,2,-3,4,5]])\n",
    "y = np.array([[1.1,1.2,1.3,1.55,9.66667]])\n",
    "z = np.array([1,2,3,4,5])\n",
    "a = np.array([0,0,0,0])"
   ]
  },
  {
   "cell_type": "code",
   "execution_count": 109,
   "id": "5cd95c7d-b6c9-4e8f-91a5-f00d6ee69ded",
   "metadata": {
    "tags": []
   },
   "outputs": [
    {
     "name": "stdout",
     "output_type": "stream",
     "text": [
      "[[1. 2. 3. 4. 5.]]\n",
      "[[1.         1.41421356 1.73205081 2.         2.23606798]]\n",
      "[[ 1  4  9 16 25]]\n",
      "[[  2.71828183   7.3890561   20.08553692  54.59815003 148.4131591 ]]\n",
      "[[0.         0.69314718 1.09861229 1.38629436 1.60943791]]\n",
      "[[1 1 1 1 1]]\n",
      "[[ 2.  2.  2.  2. 10.]]\n",
      "[[1. 1. 1. 1. 9.]]\n",
      "[[ 1.  1.  1.  2. 10.]]\n",
      "(array([[0.1    , 0.2    , 0.3    , 0.55   , 0.66667]]), array([[1., 1., 1., 1., 9.]]))\n",
      "[False False False False False]\n",
      "[ True  True  True  True  True]\n",
      "[False False False False False]\n",
      "[ 0.84147098  0.90929743  0.14112001 -0.7568025  -0.95892427]\n",
      "[ 0.54030231 -0.41614684 -0.9899925  -0.65364362  0.28366219]\n",
      "[ 1.55740772 -2.18503986 -0.14254654  1.15782128 -3.38051501]\n",
      "[ 1.17520119  3.62686041 10.01787493 27.2899172  74.20321058]\n",
      "[ 1.54308063  3.76219569 10.067662   27.30823284 74.20994852]\n",
      "[0.76159416 0.96402758 0.99505475 0.9993293  0.9999092 ]\n",
      "[1.57079633 1.57079633 1.57079633 1.57079633]\n",
      "[0. 0. 0. 0.]\n",
      "[0. 0. 0. 0.]\n",
      "[0. 0. 0. 0.]\n",
      "[ True  True  True  True]\n"
     ]
    }
   ],
   "source": [
    "##task 4\n",
    "#abs , fabs , sqrt , square , exp , log , sign , ceil , floor , rint , modf, isnan , isfinite\n",
    "#cos , sin , tan and their hyperbolic , arc[sin , cos , tan , sinh , cosh , tanh] , logical_not\n",
    "#abs return a integer array\n",
    "#fabs returns a float array\n",
    "#sqrt function find the square root of an array if array contains negative number then it will give warning\n",
    "#square funtion finds the square of each element in an array\n",
    "#exp calculates the exponent of each element in an array\n",
    "#log find the log of each element\n",
    "#sign find the sign of each element 1 represents postive , 0 zero , -1 negative\n",
    "#ceil rounds off to next value even int has .1 decimal part\n",
    "#floor remove the floating point part and return int\n",
    "#rint rounds off mathematically\n",
    "#modf return deciaml and integer part separtly\n",
    "#isnan returns ture if value is not a number\n",
    "#isfinite return ture if value is finite\n",
    "#isinf return ture if value is infinite\n",
    "#sin , cos , tan and their hyperbolic reutrn their trigonomerical functional value\n",
    "#arc[sin , cos ,tan , hyperbolic] return their inverse trignometrical\n",
    "result = np.abs(x)\n",
    "\n",
    "print(np.fabs(result))\n",
    "\n",
    "print(np.sqrt(result))\n",
    "\n",
    "print(np.square(result))\n",
    "\n",
    "print(np.exp(result))\n",
    "\n",
    "print(np.log(result))\n",
    "\n",
    "print(np.sign(result))\n",
    "\n",
    "print(np.ceil(y))\n",
    "\n",
    "print(np.floor(y))\n",
    "\n",
    "print(np.rint(y))\n",
    "\n",
    "print(np.modf(y))\n",
    "\n",
    "print(np.isnan(z))\n",
    "\n",
    "print(np.isfinite(z))\n",
    "\n",
    "print(np.isinf(z))\n",
    "\n",
    "print(np.sin(z))\n",
    "print(np.cos(z))\n",
    "print(np.tan(z)) \n",
    "print(np.sinh(z))\n",
    "print(np.cosh(z))\n",
    "print(np.tanh(z))\n",
    "\n",
    "print(np.arccos(a))\n",
    "print(np.arcsin(a))\n",
    "print(np.arctan(a))\n",
    "print(np.arcsinh(a))\n",
    "\n",
    "print(np.logical_not(a))"
   ]
  },
  {
   "cell_type": "code",
   "execution_count": 61,
   "id": "c6622516-b401-4fde-82fa-9b8eaf29a6e3",
   "metadata": {
    "tags": []
   },
   "outputs": [
    {
     "name": "stdout",
     "output_type": "stream",
     "text": [
      "[[ 0  3 -2  5  6]]\n",
      "[[-2  1 -4  3  4]]\n",
      "[[-2  4 -6  8 10]]\n",
      "[[-1.  2. -3.  4.  5.]]\n",
      "[[-1  1 -2  2  2]]\n",
      "[[ 1  4  9 16 25]]\n",
      "ma [[3 3 3 4 5]]\n",
      "[[1 2 1 4 5]]\n",
      "[[-1.    1.2  -3.    1.55  5.  ]]\n",
      "[[-1  2 -3  2  2]]\n",
      "[[1 0 1 0 1]]\n"
     ]
    }
   ],
   "source": [
    "#task 5\n",
    "#add , subtact , multiply , divide , floor divide , power , maximum , fmax , minimum , fmin , mod\n",
    "print(np.add(x,1))\n",
    "print(np.subtract(x,1))\n",
    "print(np.multiply(x,2))\n",
    "print(np.divide(x,1))\n",
    "print(np.floor_divide(x,2))\n",
    "print(np.power(x,2))\n",
    "\n",
    "print(np.maximum(x,3))\n",
    "print(np.fmax(x,1))\n",
    "print(np.minimum(x,y))\n",
    "print(np.fmin(x,2))\n",
    "print(np.mod(x,2))"
   ]
  },
  {
   "cell_type": "code",
   "execution_count": 65,
   "id": "bb47ccc7-773d-495a-afc0-0e58fd9858b4",
   "metadata": {
    "tags": []
   },
   "outputs": [
    {
     "name": "stdout",
     "output_type": "stream",
     "text": [
      "7\n",
      "1.4\n",
      "3.006659275674582\n",
      "9.040000000000001\n",
      "-3\n",
      "5\n",
      "2\n",
      "4\n",
      "[ 1  3  6 10 15]\n",
      "[  1   2   6  24 120]\n"
     ]
    }
   ],
   "source": [
    "#task 6\n",
    "print(np.sum(x))\n",
    "print(np.mean(x))\n",
    "print(np.std(x))\n",
    "print(np.var(x))\n",
    "print(np.min(x))\n",
    "print(np.max(x))\n",
    "print(np.argmin(x))\n",
    "print(np.argmax(x))\n",
    "print(np.cumsum(z))\n",
    "print(np.cumprod(z))"
   ]
  },
  {
   "cell_type": "code",
   "execution_count": 71,
   "id": "e3b170cc-5b71-4dec-822d-86e8185fae8e",
   "metadata": {
    "tags": []
   },
   "outputs": [
    {
     "name": "stdout",
     "output_type": "stream",
     "text": [
      "[1 2 3 4 5]\n",
      "[]\n",
      "[1.      1.1     1.2     1.3     1.55    2.      3.      4.      5.\n",
      " 9.66667]\n",
      "[False False False False False]\n",
      "[1 2 3 4 5]\n",
      "[1.      1.1     1.2     1.3     1.55    2.      3.      4.      5.\n",
      " 9.66667]\n"
     ]
    }
   ],
   "source": [
    "#task 7\n",
    "print(np.unique(z))\n",
    "print(np.intersect1d(z , y))\n",
    "print(np.union1d(z , y))\n",
    "print(np.in1d(z , y))\n",
    "print(np.setdiff1d(z , y))\n",
    "print(np.setxor1d(z , y))"
   ]
  },
  {
   "cell_type": "code",
   "execution_count": 106,
   "id": "58808891-5b76-40ca-a3b8-59690d143f61",
   "metadata": {
    "tags": []
   },
   "outputs": [
    {
     "name": "stdout",
     "output_type": "stream",
     "text": [
      "[ 1  7 13 19 25]\n",
      "[[ 215  230  245  260  275]\n",
      " [ 490  530  570  610  650]\n",
      " [ 765  830  895  960 1025]\n",
      " [1040 1130 1220 1310 1400]\n",
      " [1315 1430 1545 1660 1775]]\n",
      "65\n",
      "(array([ 6.86420807e+01+0.00000000e+00j, -3.64208074e+00+0.00000000e+00j,\n",
      "       -1.04866446e-15+0.00000000e+00j,  1.34082976e-16+1.19171295e-15j,\n",
      "        1.34082976e-16-1.19171295e-15j]), array([[-0.10797496+0.j        ,  0.67495283+0.j        ,\n",
      "         0.02031966+0.j        , -0.24674761-0.00953463j,\n",
      "        -0.24674761+0.00953463j],\n",
      "       [-0.25277499+0.j        ,  0.3603897 +0.j        ,\n",
      "         0.1802646 +0.j        ,  0.08248136+0.28769623j,\n",
      "         0.08248136-0.28769623j],\n",
      "       [-0.39757502+0.j        ,  0.04582657+0.j        ,\n",
      "         0.10205537+0.j        ,  0.05755382-0.41247509j,\n",
      "         0.05755382+0.41247509j],\n",
      "       [-0.54237506+0.j        , -0.26873656+0.j        ,\n",
      "        -0.82618318+0.j        ,  0.62443868+0.j        ,\n",
      "         0.62443868-0.j        ],\n",
      "       [-0.68717509+0.j        , -0.58329969+0.j        ,\n",
      "         0.52354355+0.j        , -0.51772627+0.13431349j,\n",
      "        -0.51772627-0.13431349j]]))\n"
     ]
    }
   ],
   "source": [
    "#task 8\n",
    "squaremat = np.arange(1,26).reshape(5,5)\n",
    "squaremat2 = np.arange(1,26).reshape(5,5)\n",
    "\n",
    "print(np.diag(squaremat))\n",
    "print(np.dot(squaremat , squaremat2))\n",
    "print(np.trace(squaremat))\n",
    "print(np.linalg.eig(squaremat))\n"
   ]
  },
  {
   "cell_type": "code",
   "execution_count": 108,
   "id": "a940b8fc-004d-47f7-9486-27a0d228dfb8",
   "metadata": {
    "tags": []
   },
   "outputs": [
    {
     "name": "stdout",
     "output_type": "stream",
     "text": [
      "[[4 9 6]\n",
      " [3 3 7]\n",
      " [7 9 7]\n",
      " [8 9 8]\n",
      " [7 6 4]]\n",
      "[[-1  2 -3  4  5]]\n",
      "None\n"
     ]
    }
   ],
   "source": [
    "#task 9 \n",
    "np.random.seed(7)\n",
    "print(np.random.randint(10 , size = (5,3)))\n",
    "print(np.random.permutation(x))\n",
    "print(np.random.shuffle(x))"
   ]
  }
 ],
 "metadata": {
  "kernelspec": {
   "display_name": "Python 3 (ipykernel)",
   "language": "python",
   "name": "python3"
  },
  "language_info": {
   "codemirror_mode": {
    "name": "ipython",
    "version": 3
   },
   "file_extension": ".py",
   "mimetype": "text/x-python",
   "name": "python",
   "nbconvert_exporter": "python",
   "pygments_lexer": "ipython3",
   "version": "3.11.5"
  }
 },
 "nbformat": 4,
 "nbformat_minor": 5
}
