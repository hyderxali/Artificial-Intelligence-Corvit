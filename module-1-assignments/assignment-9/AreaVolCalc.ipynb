{
 "cells": [
  {
   "cell_type": "code",
   "execution_count": null,
   "id": "041aaf9d-b4d8-4109-90e7-63f2c15712e9",
   "metadata": {},
   "outputs": [],
   "source": [
    "def areaOfSquare(l):\n",
    "    return l**2\n",
    "def volumeOfSphere(r):\n",
    "    return float((4/3)(3.1415)(r**3))\n",
    "def areaOfSphere(r):\n",
    "    return float((4/3)(3.1415)(r**2))\n",
    "def areaOfTriangle(w,h):\n",
    "    return float(1/2(w*h))\n",
    "def areaOfEquilateral(a):\n",
    "    return float(((3**1/2)/4)*a**2)\n",
    "def fibbo(n):\n",
    "    num1 = 0\n",
    "    num2 = 1\n",
    "    next_number = num2 \n",
    "    count = 1\n",
    "    print(\"0\",end=\"\")\n",
    "    while count <= n:\n",
    "        print(next_number, end=\" \")\n",
    "        count += 1\n",
    "        num1, num2 = num2, next_number\n",
    "        next_number = num1 + num2\n",
    "    print()\n",
    "\n",
    "def tuppleTOList(tpl):\n",
    "    tlist = []\n",
    "    for i in tpl:\n",
    "        tlist.append(i)\n",
    "    return tlist\n",
    "def evenInTupple(tpl):\n",
    "    count = 0\n",
    "    for i in tpl:\n",
    "        if i % 2 == 0:\n",
    "            count+=1\n",
    "    return count\n",
    "def greaterThan20(tpl):\n",
    "    tlist = []\n",
    "    for i in tpl:\n",
    "        if i > 20 : \n",
    "            tlist.append(i)\n",
    "    return tlist\n",
    "        \n"
   ]
  }
 ],
 "metadata": {
  "kernelspec": {
   "display_name": "Python 3 (ipykernel)",
   "language": "python",
   "name": "python3"
  },
  "language_info": {
   "codemirror_mode": {
    "name": "ipython",
    "version": 3
   },
   "file_extension": ".py",
   "mimetype": "text/x-python",
   "name": "python",
   "nbconvert_exporter": "python",
   "pygments_lexer": "ipython3",
   "version": "3.11.5"
  }
 },
 "nbformat": 4,
 "nbformat_minor": 5
}
