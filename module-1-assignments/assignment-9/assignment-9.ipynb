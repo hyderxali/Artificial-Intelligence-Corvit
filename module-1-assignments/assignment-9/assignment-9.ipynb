{
 "cells": [
  {
   "cell_type": "code",
   "execution_count": 19,
   "id": "c95cb1ef-6cda-48b4-8a11-70b71ec62beb",
   "metadata": {
    "tags": []
   },
   "outputs": [],
   "source": [
    "import AreaVolCalc as avc"
   ]
  },
  {
   "cell_type": "code",
   "execution_count": null,
   "id": "8291cf42-cd31-43e2-b70f-53f5fec1cec6",
   "metadata": {
    "tags": []
   },
   "outputs": [],
   "source": [
    "x = int(input(\"Enter length of square\"))\n",
    "print(avc.areaOfSquare(x))\n",
    "\n",
    "x = int(input(\"Enter radius\"))\n",
    "print(avc.volumeOfSphere(x))\n",
    "\n",
    "x = int(input(\"Enter radius\"))\n",
    "print(avc.areaOfSphere(x))\n",
    "\n",
    "x = int(input(\"Enter width\"))\n",
    "y = int(input(\"Enter height\"))\n",
    "print(avc.areaOfTriangle(x,y))\n",
    "\n",
    "x = int(input(\"Enter a\"))\n",
    "print(avc.areaOfEquilateral(x))\n",
    "\n",
    "x = int(input(\"Enter fibbo length\"))\n",
    "print(avc.fibbo(x))\n",
    "\n",
    "x = (1,2,3,4,5)\n",
    "avc.tuppleTOList(x)"
   ]
  }
 ],
 "metadata": {
  "kernelspec": {
   "display_name": "Python 3 (ipykernel)",
   "language": "python",
   "name": "python3"
  },
  "language_info": {
   "codemirror_mode": {
    "name": "ipython",
    "version": 3
   },
   "file_extension": ".py",
   "mimetype": "text/x-python",
   "name": "python",
   "nbconvert_exporter": "python",
   "pygments_lexer": "ipython3",
   "version": "3.11.5"
  }
 },
 "nbformat": 4,
 "nbformat_minor": 5
}
