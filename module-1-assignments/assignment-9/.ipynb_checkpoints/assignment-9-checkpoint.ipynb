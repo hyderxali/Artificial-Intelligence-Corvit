{
 "cells": [
  {
   "cell_type": "code",
   "execution_count": 4,
   "id": "c95cb1ef-6cda-48b4-8a11-70b71ec62beb",
   "metadata": {
    "tags": []
   },
   "outputs": [],
   "source": [
    "import AreaVolCalc as avc"
   ]
  },
  {
   "cell_type": "code",
   "execution_count": 6,
   "id": "8291cf42-cd31-43e2-b70f-53f5fec1cec6",
   "metadata": {
    "tags": []
   },
   "outputs": [
    {
     "name": "stdout",
     "output_type": "stream",
     "text": [
      "1 \n",
      "2 \n",
      "3 \n",
      "5 \n",
      "8 \n",
      "13 \n"
     ]
    }
   ],
   "source": [
    "avc.fibbo(6)"
   ]
  }
 ],
 "metadata": {
  "kernelspec": {
   "display_name": "Python 3 (ipykernel)",
   "language": "python",
   "name": "python3"
  },
  "language_info": {
   "codemirror_mode": {
    "name": "ipython",
    "version": 3
   },
   "file_extension": ".py",
   "mimetype": "text/x-python",
   "name": "python",
   "nbconvert_exporter": "python",
   "pygments_lexer": "ipython3",
   "version": "3.11.5"
  }
 },
 "nbformat": 4,
 "nbformat_minor": 5
}
