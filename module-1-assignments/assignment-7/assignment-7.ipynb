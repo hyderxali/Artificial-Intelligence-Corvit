{
 "cells": [
  {
   "cell_type": "code",
   "execution_count": 35,
   "id": "2ca9f235-3cb1-4d6e-a2b2-f538bb7e0dec",
   "metadata": {
    "tags": []
   },
   "outputs": [
    {
     "name": "stdin",
     "output_type": "stream",
     "text": [
      "Enter Value :  5\n"
     ]
    },
    {
     "name": "stdout",
     "output_type": "stream",
     "text": [
      "Factorail is : 120\n"
     ]
    }
   ],
   "source": [
    "# Task 1: Write a program to calculate the factorial of a number using a for loop.\n",
    "value = int(input(\"Enter Value : \"))\n",
    "if value == 0 : \n",
    "    print(\"Factorail is 1\")\n",
    "else : \n",
    "    fac = 1\n",
    "    for i in range(1 , value + 1) : \n",
    "        fac = fac * i\n",
    "print(\"Factorail is :\",fac)"
   ]
  },
  {
   "cell_type": "code",
   "execution_count": 59,
   "id": "3480bbb9-3fc6-4737-ae8b-f1de712f54d3",
   "metadata": {},
   "outputs": [
    {
     "name": "stdin",
     "output_type": "stream",
     "text": [
      "Enter length :  10\n"
     ]
    },
    {
     "name": "stdout",
     "output_type": "stream",
     "text": [
      "* * * * * * * * * * \n",
      "* * * * * * * * * \n",
      "* * * * * * * * \n",
      "* * * * * * * \n",
      "* * * * * * \n",
      "* * * * * \n",
      "* * * * \n",
      "* * * \n",
      "* * \n",
      "* \n"
     ]
    }
   ],
   "source": [
    "# Task 2:Write a program to print this shape using for loop:\n",
    "# * * * * *\n",
    "# * * * *\n",
    "# * * *\n",
    "# * *\n",
    "# *\n",
    "leng = int(input(\"Enter length : \"))\n",
    "for i in range(leng  , 0 , -1) : \n",
    "    print(\"* \"*i)\n"
   ]
  },
  {
   "cell_type": "code",
   "execution_count": 60,
   "id": "1bb7aa16-0676-48a8-8667-618c53cb4eea",
   "metadata": {
    "tags": []
   },
   "outputs": [
    {
     "name": "stdout",
     "output_type": "stream",
     "text": [
      "Enter stop to stop inserting in list\n"
     ]
    },
    {
     "name": "stdin",
     "output_type": "stream",
     "text": [
      "Enter Name :  Ali\n",
      "Enter Name :  hassan\n",
      "Enter Name :  Hussain\n",
      "Enter Name :  Fatima\n",
      "Enter Name :  Muhammad\n",
      "Enter Name :  stop\n"
     ]
    },
    {
     "name": "stdout",
     "output_type": "stream",
     "text": [
      "Ali\n",
      "hassan\n",
      "Hussain\n",
      "Fatima\n",
      "Muhammad\n"
     ]
    }
   ],
   "source": [
    "# Task 3: List Iteration:\n",
    "# Iterate through a list of names and print each name using a for loop.\n",
    "print(\"Enter stop to stop inserting in list\")\n",
    "names = []\n",
    "while True : \n",
    "    name = input(\"Enter Name : \")\n",
    "    if name == \"stop\" :\n",
    "        break\n",
    "    else :   \n",
    "        names.append(name)\n",
    "for i in names : \n",
    "    print(i)\n",
    "    \n"
   ]
  },
  {
   "cell_type": "code",
   "execution_count": 54,
   "id": "eee47ad7-1cf6-493e-aba3-b2cc2bcee779",
   "metadata": {
    "tags": []
   },
   "outputs": [
    {
     "name": "stdout",
     "output_type": "stream",
     "text": [
      "Enter -1 to stop inserting in list\n"
     ]
    },
    {
     "name": "stdin",
     "output_type": "stream",
     "text": [
      "Enter Number :  1\n",
      "Enter Number :  2\n",
      "Enter Number :  3\n",
      "Enter Number :  4\n",
      "Enter Number :  5\n",
      "Enter Number :  -1\n"
     ]
    },
    {
     "name": "stdout",
     "output_type": "stream",
     "text": [
      "Sum :  15\n"
     ]
    }
   ],
   "source": [
    "# Task 4: Write a for loop to calculate the sum of all the elements in a list of numbers.\n",
    "print(\"Enter -1 to stop inserting in list\")\n",
    "number = []\n",
    "while True : \n",
    "    num = int(input(\"Enter Number : \"))\n",
    "    if num == -1 :\n",
    "        break\n",
    "    else :   \n",
    "        number.append(num)\n",
    "total = 0\n",
    "for i in number : \n",
    "    total = total + i\n",
    "print(\"Sum : \",total)\n"
   ]
  },
  {
   "cell_type": "code",
   "execution_count": 51,
   "id": "955a7b14-3449-4f5c-bd2b-8f2428219f5a",
   "metadata": {
    "tags": []
   },
   "outputs": [
    {
     "name": "stdout",
     "output_type": "stream",
     "text": [
      "121\n",
      "143\n",
      "165\n",
      "187\n",
      "209\n",
      "231\n",
      "253\n",
      "275\n",
      "297\n",
      "319\n",
      "341\n",
      "363\n",
      "385\n",
      "407\n",
      "429\n",
      "451\n",
      "473\n",
      "495\n"
     ]
    }
   ],
   "source": [
    "# Task 5: Write a program to display all the numbers which is divisible by 11 but not by 2 100 and 500.\n",
    "for i in range(100 , 501) : \n",
    "    if (i % 11 == 0) and (i % 2 != 0) : \n",
    "        print(i)"
   ]
  },
  {
   "cell_type": "code",
   "execution_count": 57,
   "id": "32b594bd-6890-4f84-9b8d-b926e0fa4965",
   "metadata": {
    "tags": []
   },
   "outputs": [
    {
     "name": "stdout",
     "output_type": "stream",
     "text": [
      "Enter -1 to stop inserting in list\n"
     ]
    },
    {
     "name": "stdin",
     "output_type": "stream",
     "text": [
      "Enter Number :  1\n",
      "Enter Number :  2\n",
      "Enter Number :  3\n",
      "Enter Number :  4\n",
      "Enter Number :  5\n",
      "Enter Number :  6\n",
      "Enter Number :  7\n",
      "Enter Number :  8\n",
      "Enter Number :  9\n",
      "Enter Number :  11\n",
      "Enter Number :  55\n",
      "Enter Number :  66\n",
      "Enter Number :  34\n",
      "Enter Number :  -1\n"
     ]
    },
    {
     "name": "stdout",
     "output_type": "stream",
     "text": [
      "Even number in list :  2\n",
      "Even number in list :  4\n",
      "Even number in list :  6\n",
      "Even number in list :  8\n",
      "Even number in list :  66\n",
      "Even number in list :  34\n"
     ]
    }
   ],
   "source": [
    "# Task 6:Write a program to find even numbers from a list (without builtin function),\n",
    "print(\"Enter -1 to stop inserting in list\")\n",
    "number = []\n",
    "while True : \n",
    "    num = int(input(\"Enter Number : \"))\n",
    "    if num == -1 :\n",
    "        break\n",
    "    else :   \n",
    "        number.append(num)\n",
    "total = 0\n",
    "for i in number : \n",
    "    if i % 2 == 0 : \n",
    "        print(\"Even number in list : \",i)"
   ]
  },
  {
   "cell_type": "code",
   "execution_count": null,
   "id": "1d229421-ba3c-45de-a5c5-52a175459cdb",
   "metadata": {},
   "outputs": [],
   "source": []
  }
 ],
 "metadata": {
  "kernelspec": {
   "display_name": "Python 3 (ipykernel)",
   "language": "python",
   "name": "python3"
  },
  "language_info": {
   "codemirror_mode": {
    "name": "ipython",
    "version": 3
   },
   "file_extension": ".py",
   "mimetype": "text/x-python",
   "name": "python",
   "nbconvert_exporter": "python",
   "pygments_lexer": "ipython3",
   "version": "3.11.5"
  }
 },
 "nbformat": 4,
 "nbformat_minor": 5
}
