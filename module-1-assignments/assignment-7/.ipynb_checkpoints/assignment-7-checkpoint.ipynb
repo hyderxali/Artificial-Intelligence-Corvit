{
 "cells": [
  {
   "cell_type": "code",
   "execution_count": 35,
   "id": "2ca9f235-3cb1-4d6e-a2b2-f538bb7e0dec",
   "metadata": {
    "tags": []
   },
   "outputs": [
    {
     "name": "stdin",
     "output_type": "stream",
     "text": [
      "Enter Value :  5\n"
     ]
    },
    {
     "name": "stdout",
     "output_type": "stream",
     "text": [
      "Factorail is : 120\n"
     ]
    }
   ],
   "source": [
    "# Task 1: Write a program to calculate the factorial of a number using a for loop.\n",
    "value = int(input(\"Enter Value : \"))\n",
    "if value == 0 : \n",
    "    print(\"Factorail is 1\")\n",
    "else : \n",
    "    fac = 1\n",
    "    for i in range(1 , value + 1) : \n",
    "        fac = fac * i\n",
    "print(\"Factorail is :\",fac)"
   ]
  },
  {
   "cell_type": "code",
   "execution_count": 43,
   "id": "3480bbb9-3fc6-4737-ae8b-f1de712f54d3",
   "metadata": {},
   "outputs": [
    {
     "name": "stdin",
     "output_type": "stream",
     "text": [
      "Enter length :  1\n"
     ]
    },
    {
     "name": "stdout",
     "output_type": "stream",
     "text": [
      "* \n"
     ]
    }
   ],
   "source": [
    "# Task 2:Write a program to print this shape using for loop:\n",
    "# * * * * *\n",
    "# * * * *\n",
    "# * * *\n",
    "# * *\n",
    "# *\n",
    "leng = int(input(\"Enter length : \"))\n",
    "for i in range(leng  , 0 , -1) : \n",
    "    print(\"* \"*i)\n"
   ]
  },
  {
   "cell_type": "code",
   "execution_count": 50,
   "id": "1bb7aa16-0676-48a8-8667-618c53cb4eea",
   "metadata": {
    "tags": []
   },
   "outputs": [
    {
     "name": "stdout",
     "output_type": "stream",
     "text": [
      "Enter stop to stop inserting in list\n"
     ]
    },
    {
     "name": "stdin",
     "output_type": "stream",
     "text": [
      "Enter Name :  ali\n",
      "Enter Name :  hassan\n",
      "Enter Name :  husain\n",
      "Enter Name :  stop\n"
     ]
    },
    {
     "name": "stdout",
     "output_type": "stream",
     "text": [
      "ali\n",
      "hassan\n",
      "husain\n"
     ]
    }
   ],
   "source": [
    "# Task 3: List Iteration:\n",
    "# Iterate through a list of names and print each name using a for loop.\n",
    "print(\"Enter stop to stop inserting in list\")\n",
    "names = []\n",
    "while True : \n",
    "    name = input(\"Enter Name : \")\n",
    "    if name == \"stop\" :\n",
    "        break\n",
    "    else :   \n",
    "        names.append(name)\n",
    "for i in names : \n",
    "    print(i)\n",
    "    \n"
   ]
  },
  {
   "cell_type": "code",
   "execution_count": null,
   "id": "eee47ad7-1cf6-493e-aba3-b2cc2bcee779",
   "metadata": {},
   "outputs": [],
   "source": [
    "# Task 4: Write a for loop to calculate the sum of all the elements in a list of numbers.\n",
    "print(\"Enter -1 to stop inserting in list\")\n",
    "number = []\n",
    "while True : \n",
    "    name = input(\"Enter Number : \")\n",
    "    if name == \"stop\" :\n",
    "        break\n",
    "    else :   \n",
    "        number.append(name)\n",
    "for i in names : \n",
    "    print(i)\n"
   ]
  },
  {
   "cell_type": "code",
   "execution_count": 51,
   "id": "955a7b14-3449-4f5c-bd2b-8f2428219f5a",
   "metadata": {
    "tags": []
   },
   "outputs": [
    {
     "name": "stdout",
     "output_type": "stream",
     "text": [
      "121\n",
      "143\n",
      "165\n",
      "187\n",
      "209\n",
      "231\n",
      "253\n",
      "275\n",
      "297\n",
      "319\n",
      "341\n",
      "363\n",
      "385\n",
      "407\n",
      "429\n",
      "451\n",
      "473\n",
      "495\n"
     ]
    }
   ],
   "source": [
    "# Task 5: Write a program to display all the numbers which is divisible by 11 but not by 2 100 and 500.\n",
    "for i in range(100 , 501) : \n",
    "    if (i % 11 == 0) and (i % 2 != 0) : \n",
    "        print(i)"
   ]
  }
 ],
 "metadata": {
  "kernelspec": {
   "display_name": "Python 3 (ipykernel)",
   "language": "python",
   "name": "python3"
  },
  "language_info": {
   "codemirror_mode": {
    "name": "ipython",
    "version": 3
   },
   "file_extension": ".py",
   "mimetype": "text/x-python",
   "name": "python",
   "nbconvert_exporter": "python",
   "pygments_lexer": "ipython3",
   "version": "3.11.5"
  }
 },
 "nbformat": 4,
 "nbformat_minor": 5
}
