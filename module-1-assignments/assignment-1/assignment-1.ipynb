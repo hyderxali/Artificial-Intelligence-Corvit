{
 "cells": [
  {
   "cell_type": "code",
   "execution_count": 1,
   "id": "58594a57-9514-46e4-bb6f-322fd3e9a9ff",
   "metadata": {
    "tags": []
   },
   "outputs": [
    {
     "name": "stdout",
     "output_type": "stream",
     "text": [
      "name : Muhammad Haider Ali \n",
      "Rollno. : su92-bscsm-f22-219 \n",
      "Age : 19\n",
      "Name datatype : <class 'str'>\n",
      "rollno datatype : <class 'str'>\n",
      "age datatype : <class 'int'>\n",
      "\n",
      "**********************\n",
      "*                    *\n",
      "*                    *\n",
      "*                    *\n",
      "*                    *\n",
      "**********************\n",
      "\n"
     ]
    },
    {
     "name": "stdin",
     "output_type": "stream",
     "text": [
      "Enter your height in feet : 5.7\n"
     ]
    },
    {
     "name": "stdout",
     "output_type": "stream",
     "text": [
      "Your height in meters is : 1.7373600000000002\n",
      "\n",
      "**********************\n",
      "*         *          *\n",
      "*         *          *\n",
      "**********************\n",
      "*         *          *\n",
      "*         *          *\n",
      "**********************\n",
      "\n"
     ]
    }
   ],
   "source": [
    "name = \"Muhammad Haider Ali\"\n",
    "rollno = \"su92-bscsm-f22-219\"\n",
    "age = 19\n",
    "print(\"name :\",name,\"\\nRollno. :\",rollno,\"\\nAge :\",age)\n",
    "print(\"Name datatype :\",type(name))\n",
    "print(\"rollno datatype :\",type(rollno))\n",
    "print(\"age datatype :\",type(age))\n",
    "print(\"\"\"\n",
    "**********************\n",
    "*                    *\n",
    "*                    *\n",
    "*                    *\n",
    "*                    *\n",
    "**********************\n",
    "\"\"\")\n",
    "heightInFeet = input(\"Enter your height in feet :\")\n",
    "heightInMeters = float(heightInFeet) * 0.3048\n",
    "print(\"Your height in meters is :\",heightInMeters)\n",
    "print(\"\"\"\n",
    "**********************\n",
    "*         *          *\n",
    "*         *          *\n",
    "**********************\n",
    "*         *          *\n",
    "*         *          *\n",
    "**********************\n",
    "\"\"\")"
   ]
  },
  {
   "cell_type": "code",
   "execution_count": null,
   "id": "f4fd382a-55cc-469e-98e5-2bc691f60b02",
   "metadata": {},
   "outputs": [],
   "source": []
  }
 ],
 "metadata": {
  "kernelspec": {
   "display_name": "Python 3 (ipykernel)",
   "language": "python",
   "name": "python3"
  },
  "language_info": {
   "codemirror_mode": {
    "name": "ipython",
    "version": 3
   },
   "file_extension": ".py",
   "mimetype": "text/x-python",
   "name": "python",
   "nbconvert_exporter": "python",
   "pygments_lexer": "ipython3",
   "version": "3.11.5"
  }
 },
 "nbformat": 4,
 "nbformat_minor": 5
}
