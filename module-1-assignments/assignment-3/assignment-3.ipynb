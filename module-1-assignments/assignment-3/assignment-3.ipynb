{
 "cells": [
  {
   "cell_type": "code",
   "execution_count": 1,
   "id": "92f44076-8b1b-470a-8614-cfb7a93c476a",
   "metadata": {
    "tags": []
   },
   "outputs": [
    {
     "name": "stdout",
     "output_type": "stream",
     "text": [
      "Number 2 is greater :  11\n"
     ]
    }
   ],
   "source": [
    "#task 1 Write a program to find maximum between two numbers.\n",
    "num1 = 10\n",
    "num2 = 11\n",
    "if num1 > num2 : \n",
    "    print(\"Number 1 is greater : \",num1)\n",
    "else : \n",
    "    print(\"Number 2 is greater : \",num2)"
   ]
  },
  {
   "cell_type": "code",
   "execution_count": 3,
   "id": "3d1d7683-dc46-4a01-b5d6-29fb6481de7e",
   "metadata": {
    "tags": []
   },
   "outputs": [
    {
     "name": "stdin",
     "output_type": "stream",
     "text": [
      "Enter Number: 5\n"
     ]
    },
    {
     "name": "stdout",
     "output_type": "stream",
     "text": [
      "Number is Positive\n"
     ]
    }
   ],
   "source": [
    "#task 2 Write a program to check whether a number is negative, positive.\n",
    "number = int(input(\"Enter Number:\"))\n",
    "if number > 0 :\n",
    "    print(\"Number is Positive\")\n",
    "else : \n",
    "    print(\"Number is Negative\")"
   ]
  },
  {
   "cell_type": "code",
   "execution_count": 6,
   "id": "e3369b23-db49-4ad5-bb30-4c432788e909",
   "metadata": {
    "tags": []
   },
   "outputs": [
    {
     "name": "stdin",
     "output_type": "stream",
     "text": [
      "Enter Number: 8\n"
     ]
    },
    {
     "name": "stdout",
     "output_type": "stream",
     "text": [
      "Number is Even\n"
     ]
    }
   ],
   "source": [
    "# Task 3: Write a program to check whether a number is even or odd.\n",
    "number = int(input(\"Enter Number:\"))\n",
    "if number%2==0 : \n",
    "    print(\"Number is Even\")\n",
    "else :\n",
    "    print(\"Number is Odd\")"
   ]
  },
  {
   "cell_type": "code",
   "execution_count": 7,
   "id": "7a632e06-3b6d-4064-a5cc-973e7187dd7f",
   "metadata": {
    "tags": []
   },
   "outputs": [
    {
     "name": "stdout",
     "output_type": "stream",
     "text": [
      "Not Same\n"
     ]
    }
   ],
   "source": [
    "# Task 4: make a two variable and assign “Pakistan” and “pakistan”. Apply if condition to check\n",
    "# Variable are same or not.\n",
    "\n",
    "first = \"pakistan\"\n",
    "second = \"Pakistan\"\n",
    "\n",
    "if first == second : \n",
    "    print(\"Same\")\n",
    "else : \n",
    "    print(\"Not Same\")"
   ]
  },
  {
   "cell_type": "code",
   "execution_count": 13,
   "id": "9f969766-283d-4c66-a75a-b9992f66e058",
   "metadata": {
    "tags": []
   },
   "outputs": [
    {
     "name": "stdout",
     "output_type": "stream",
     "text": [
      "Octal : 0o125364 Decimal : 43764 Binary : 0b1010101011110100 Hexa :  0xaaf4\n"
     ]
    }
   ],
   "source": [
    "# Task 5: make a variable and assign a hexadecimal value. After that convert it into octadecimal\n",
    "# , hexadecimal and binary number system and print.\n",
    "hexa_var = 0xAAF4\n",
    "print(\"Octal :\",oct(hexa_var) ,\"Decimal :\", int(hexa_var) ,\"Binary :\", bin(hexa_var) , \"Hexa : \",hex(hexa_var))"
   ]
  }
 ],
 "metadata": {
  "kernelspec": {
   "display_name": "Python 3 (ipykernel)",
   "language": "python",
   "name": "python3"
  },
  "language_info": {
   "codemirror_mode": {
    "name": "ipython",
    "version": 3
   },
   "file_extension": ".py",
   "mimetype": "text/x-python",
   "name": "python",
   "nbconvert_exporter": "python",
   "pygments_lexer": "ipython3",
   "version": "3.11.5"
  }
 },
 "nbformat": 4,
 "nbformat_minor": 5
}
