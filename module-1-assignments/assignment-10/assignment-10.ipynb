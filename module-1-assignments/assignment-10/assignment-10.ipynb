{
 "cells": [
  {
   "cell_type": "code",
   "execution_count": 1,
   "id": "120d952d-1ae6-4a45-a460-88cd3b1c418b",
   "metadata": {
    "tags": []
   },
   "outputs": [
    {
     "name": "stdin",
     "output_type": "stream",
     "text": [
      "Enter string : abcd efgh\n"
     ]
    },
    {
     "name": "stdout",
     "output_type": "stream",
     "text": [
      "UPPER CASE: ABCD EFGH\n",
      "lower case: abcd efgh\n",
      "Title Case: Abcd Efgh\n"
     ]
    }
   ],
   "source": [
    "# Task 1: Case Conversion\n",
    "# You are building a text processing application that requires different case conversions for strings.\n",
    "# Implement a\n",
    "# function that takes a string as input and converts it to:\n",
    "# • • UPPERCASE\n",
    "# • • lowercase\n",
    "# • • Title Case (the first letter of each word capitalized)\n",
    "def toUpperCase(str):\n",
    "    return str.upper()\n",
    "def toLowerCase(str):\n",
    "    return str.lower()\n",
    "def toTitleCase(str):\n",
    "    return str.title()\n",
    "\n",
    "str = input(\"Enter string :\")\n",
    "print(\"UPPER CASE:\",toUpperCase(str))\n",
    "print(\"lower case:\",toLowerCase(str))\n",
    "print(\"Title Case:\",toTitleCase(str))\n"
   ]
  },
  {
   "cell_type": "code",
   "execution_count": 3,
   "id": "c0ab8f7c-7f6a-4653-9f58-1cdfc590587d",
   "metadata": {},
   "outputs": [
    {
     "name": "stdin",
     "output_type": "stream",
     "text": [
      "Enter paragraph:  muhammad Muhammad MUHAMMAD Ali ali AlI ALI hassan Hassan HAssan HASSan Hussain HUssaIn\n"
     ]
    },
    {
     "name": "stdout",
     "output_type": "stream",
     "text": [
      "{'MUHAMMAD': 3, 'ALI': 4, 'HASSAN': 4, 'HUSSAIN': 2}\n"
     ]
    }
   ],
   "source": [
    "# Task 2: Word Count\n",
    "# You have a large text document and need to count the occurrence of each word in it. Implement a function\n",
    "# that takes\n",
    "# a string as input and returns a dictionary where the keys are the unique words and the values are the counts\n",
    "# of them\n",
    "# occurrences.\n",
    "def wordCounter(str):\n",
    "    words = str.split(\" \")\n",
    "    for i in range(len(words)):\n",
    "        words[i] = words[i].upper()\n",
    "    frequency = {}\n",
    "    for i in range(len(words)):\n",
    "        if (words[i] in frequency):\n",
    "            frequency[words[i]]+=1;\n",
    "        else:\n",
    "            frequency[words[i]]=1\n",
    "    return frequency\n",
    "\n",
    "x = input(\"Enter paragraph: \")\n",
    "print(wordCounter(x))"
   ]
  },
  {
   "cell_type": "code",
   "execution_count": 8,
   "id": "db3d99b5-1b25-4fdd-961a-0350a6dd1589",
   "metadata": {
    "tags": []
   },
   "outputs": [
    {
     "name": "stdin",
     "output_type": "stream",
     "text": [
      "Enter password:  ali\n"
     ]
    },
    {
     "name": "stdout",
     "output_type": "stream",
     "text": [
      "Password should be 8 characters long\n",
      "Password should contain at least one capital letter\n",
      "password should contain at leat one digit\n"
     ]
    }
   ],
   "source": [
    "#task 3 password Validation\n",
    "def passwordValidation(str):\n",
    "    count = 0\n",
    "    upper = True\n",
    "    lower = True\n",
    "    digit = True\n",
    "    perfect = True\n",
    "    for i in range(len(str)):\n",
    "        if str[i].isdigit():\n",
    "            digit = False\n",
    "\n",
    "        if lower:\n",
    "            if (str[i] == str[i].lower()) and not(str[i].isdigit()):\n",
    "                lower = False\n",
    "        if upper:\n",
    "            if str[i] == str[i].upper() and not(str[i].isdigit()):\n",
    "                upper = False\n",
    "        count = i+1\n",
    "    \n",
    "    if \" \" in str:\n",
    "        print(\"No spaces allowed in password\")\n",
    "\n",
    "    if count < 8 :\n",
    "        print(\"Password should be 8 characters long\")\n",
    "        perfect = False\n",
    "    if upper:\n",
    "        print(\"Password should contain at least one capital letter\")\n",
    "        perfect = False\n",
    "    if lower:\n",
    "        print(\"Password should contain at least one small letter\")\n",
    "        perfect = False\n",
    "    if digit:\n",
    "        print(\"password should contain at leat one digit\")\n",
    "        perfect = False\n",
    "    if perfect:\n",
    "        print(\"You have Entered a valid password Congratulations!!\")\n",
    "\n",
    "x = input(\"Enter password: \")\n",
    "passwordValidation(x)"
   ]
  },
  {
   "cell_type": "code",
   "execution_count": 9,
   "id": "f2c9dc48-9838-41ea-a45a-2533f3c2ccdb",
   "metadata": {},
   "outputs": [
    {
     "name": "stdin",
     "output_type": "stream",
     "text": [
      "Enter email :  foreverhydercorvit@gmail.com\n"
     ]
    },
    {
     "name": "stdout",
     "output_type": "stream",
     "text": [
      "{'username': 'foreverhydercorvit', 'domain': 'gmail', 'TopLevelDomain': 'com'}\n"
     ]
    }
   ],
   "source": [
    "#task 4 email parsing\n",
    "def parseEmail(str):\n",
    "    gmail = dict()\n",
    "    email = str.split(\"@\")\n",
    "    gmail[\"username\"] = email[0]\n",
    "    gmail[\"domain\"] = email[1].split(\".\")[0]\n",
    "    gmail[\"TopLevelDomain\"] = email[1].split(\".\")[1]\n",
    "    return gmail\n",
    "\n",
    "x = input(\"Enter email : \" )\n",
    "\n",
    "print(parseEmail(x))"
   ]
  },
  {
   "cell_type": "code",
   "execution_count": 10,
   "id": "5eb9e8d6-f8f3-4a57-847b-fd45f0fce348",
   "metadata": {},
   "outputs": [
    {
     "name": "stdout",
     "output_type": "stream",
     "text": [
      "Enter stop to stop appening!\n"
     ]
    },
    {
     "name": "stdin",
     "output_type": "stream",
     "text": [
      "Enter string :  Muhammad\n",
      "Enter string :  Ali\n",
      "Enter string :  Syeda\n",
      "Enter string :  Hassan\n",
      "Enter string :  Hussain\n",
      "Enter string :  stop\n"
     ]
    },
    {
     "name": "stdout",
     "output_type": "stream",
     "text": [
      "Concated String is :  Muhammad Ali Syeda Hassan Hussain \n"
     ]
    }
   ],
   "source": [
    "#task 5 string concatenation\n",
    "def stringConcatenation(string):\n",
    "    retStr = \"\"\n",
    "    for i in string:\n",
    "        retStr+=i+\" \"\n",
    "    return retStr\n",
    "\n",
    "\n",
    "string = []\n",
    "print(\"Enter stop to stop appening!\")\n",
    "while True:\n",
    "    x = input(\"Enter string : \")\n",
    "    if x == \"stop\":\n",
    "        break\n",
    "    else:\n",
    "        string.append(x)\n",
    "\n",
    "print(\"Concated String is : \",stringConcatenation(string))\n"
   ]
  },
  {
   "cell_type": "code",
   "execution_count": 4,
   "id": "bb5154e7-3d17-4405-a6ae-585ed97300c1",
   "metadata": {},
   "outputs": [
    {
     "name": "stdin",
     "output_type": "stream",
     "text": [
      "Enter string :  123454321\n"
     ]
    },
    {
     "name": "stdout",
     "output_type": "stream",
     "text": [
      "Yes, it is a palindrome.\n"
     ]
    }
   ],
   "source": [
    "#task 6 palindrome\n",
    "def palinedrome(string):\n",
    "    if string[0:int(len(string)/2)] == string[int(len(string)/2)+1:][::-1]:\n",
    "        return True\n",
    "    else:\n",
    "        return False\n",
    "\n",
    "x = input(\"Enter string : \")\n",
    "if palinedrome(x):\n",
    "    print (\"Yes, it is a palindrome.\")\n",
    "else:\n",
    "    print(\"not palindrome\")"
   ]
  }
 ],
 "metadata": {
  "kernelspec": {
   "display_name": "Python 3 (ipykernel)",
   "language": "python",
   "name": "python3"
  },
  "language_info": {
   "codemirror_mode": {
    "name": "ipython",
    "version": 3
   },
   "file_extension": ".py",
   "mimetype": "text/x-python",
   "name": "python",
   "nbconvert_exporter": "python",
   "pygments_lexer": "ipython3",
   "version": "3.11.5"
  }
 },
 "nbformat": 4,
 "nbformat_minor": 5
}
